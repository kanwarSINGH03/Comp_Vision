{
 "cells": [
  {
   "cell_type": "markdown",
   "metadata": {
    "pycharm": {
     "name": "#%% md\n"
    }
   },
   "source": [
    "# Question 1\n",
    "\n",
    "In this question we will:\n",
    "\n",
    "- Define the CNN architecture as a Keras model object\n",
    "- Load training and validation datasets using Keras ImageDataGenerator objects\n",
    "- Train our CNN\n",
    "- Save the model for later retrieval.\n",
    "- Visualize the training and validation loss and accuracy over the training epochs.\n",
    "- Evaluate the performance of our model on a test dataset."
   ]
  },
  {
   "cell_type": "markdown",
   "metadata": {
    "pycharm": {
     "name": "#%% md\n"
    }
   },
   "source": [
    "# Step 0: Import Libraries"
   ]
  },
  {
   "cell_type": "markdown",
   "metadata": {
    "pycharm": {
     "name": "#%% md\n"
    }
   },
   "source": [
    "Import all the required Tensorflow and Keras libraries"
   ]
  },
  {
   "cell_type": "code",
   "execution_count": 5,
   "metadata": {
    "pycharm": {
     "name": "#%%\n"
    },
    "ExecuteTime": {
     "end_time": "2024-11-29T04:29:01.341675Z",
     "start_time": "2024-11-29T04:28:57.949450Z"
    }
   },
   "outputs": [],
   "source": [
    "# These are all the imports we will need.  You shouldn't need anything else.\n",
    "from tensorflow.keras.models import load_model\n",
    "from tensorflow.keras.models import Sequential\n",
    "from tensorflow.keras.layers import Conv2D\n",
    "from tensorflow.keras.layers import MaxPooling2D\n",
    "from tensorflow.keras.layers import Flatten\n",
    "from tensorflow.keras.layers import Dense\n",
    "from tensorflow.keras.optimizers import Adam\n",
    "from tensorflow.keras.preprocessing import image\n",
    "from tensorflow.keras import regularizers \n",
    "\n",
    "import os as os\n",
    "import numpy as np\n",
    "import matplotlib.pyplot as plt\n",
    "\n",
    "# Dataset sizes\n",
    "num_train_images = 23000\n",
    "num_validation_images = 2000\n",
    "num_test_images = 399\n",
    "\n",
    "# Model Hyperparameters\n",
    "input_image_size = 64\n",
    "batch_size = 32\n",
    "num_training_epochs = 40\n",
    "learning_rate = 0.001\n",
    "l2_lambda = 0.01\n",
    "\n",
    "# Parameters derived from hyperparameters\n",
    "training_steps_per_epoch = int(num_train_images/batch_size)\n",
    "validation_steps_per_epoch = int(num_validation_images/batch_size)\n",
    "testing_steps_per_epoch = num_test_images/batch_size\n",
    "\n",
    "%matplotlib inline"
   ]
  },
  {
   "cell_type": "markdown",
   "metadata": {
    "pycharm": {
     "name": "#%% md\n"
    }
   },
   "source": [
    " # Step 1: Design the CNN architecture. After designing the architecture, print it in iPython Notebook. \n"
   ]
  },
  {
   "cell_type": "code",
   "execution_count": 6,
   "metadata": {
    "pycharm": {
     "name": "#%%\n"
    },
    "ExecuteTime": {
     "end_time": "2024-11-29T04:29:06.770780Z",
     "start_time": "2024-11-29T04:29:06.692668Z"
    }
   },
   "outputs": [
    {
     "name": "stdout",
     "output_type": "stream",
     "text": [
      "Model: \"sequential\"\n",
      "_________________________________________________________________\n",
      " Layer (type)                Output Shape              Param #   \n",
      "=================================================================\n",
      " conv2d (Conv2D)             (None, 62, 62, 8)         224       \n",
      "                                                                 \n",
      " max_pooling2d (MaxPooling2D  (None, 31, 31, 8)        0         \n",
      " )                                                               \n",
      "                                                                 \n",
      " conv2d_1 (Conv2D)           (None, 29, 29, 32)        2336      \n",
      "                                                                 \n",
      " max_pooling2d_1 (MaxPooling  (None, 14, 14, 32)       0         \n",
      " 2D)                                                             \n",
      "                                                                 \n",
      " conv2d_2 (Conv2D)           (None, 12, 12, 64)        18496     \n",
      "                                                                 \n",
      " max_pooling2d_2 (MaxPooling  (None, 6, 6, 64)         0         \n",
      " 2D)                                                             \n",
      "                                                                 \n",
      " conv2d_3 (Conv2D)           (None, 4, 4, 128)         73856     \n",
      "                                                                 \n",
      " max_pooling2d_3 (MaxPooling  (None, 2, 2, 128)        0         \n",
      " 2D)                                                             \n",
      "                                                                 \n",
      " flatten (Flatten)           (None, 512)               0         \n",
      "                                                                 \n",
      " dense (Dense)               (None, 128)               65664     \n",
      "                                                                 \n",
      " dense_1 (Dense)             (None, 1)                 129       \n",
      "                                                                 \n",
      "=================================================================\n",
      "Total params: 160,705\n",
      "Trainable params: 160,705\n",
      "Non-trainable params: 0\n",
      "_________________________________________________________________\n"
     ]
    },
    {
     "name": "stderr",
     "output_type": "stream",
     "text": [
      "2024-11-28 22:29:06.696906: I tensorflow/core/platform/cpu_feature_guard.cc:193] This TensorFlow binary is optimized with oneAPI Deep Neural Network Library (oneDNN) to use the following CPU instructions in performance-critical operations:  SSE4.1 SSE4.2\n",
      "To enable them in other operations, rebuild TensorFlow with the appropriate compiler flags.\n"
     ]
    }
   ],
   "source": [
    "# WRITE THE CODE DEFINING THE NETWORK ARCHITECTURE HERE (Sec. 2.2 in the assignment PDF)\n",
    "\n",
    "# Initialize the CNN using the Sequential() function from keras.models and assign it to the variable 'model'.\n",
    "model = Sequential()\n",
    "\n",
    "# Add a convolution layer with 8 feature maps of shape (3,3), and input_shape=(64,64,3).\n",
    "# Use 'relu' for the activation function.\n",
    "\n",
    "model.add(Conv2D(8 , (3,3) , input_shape = (64,64,3) , activation = 'relu') )\n",
    "\n",
    "# Add a max pooling layer, with a pool_size of (2,2)\n",
    "\n",
    "model.add(MaxPooling2D(pool_size = (2,2)))\n",
    "\n",
    "# Add a three more pairs of convolution and max pooling layers.  Use 32, 64, and 128 feature maps, respectively,\n",
    "# for each successive convolutional layer.  Use pool_size of (2,2) for every max pooling lyaer.\n",
    "# Don't specify input_shape for the convolutional layer this time since it can be inferred from the previous layer.\n",
    "\n",
    "model.add(Conv2D(32, (3,3), activation = 'relu' ))\n",
    "model.add(MaxPooling2D(pool_size = (2,2)))\n",
    "\n",
    "model.add(Conv2D(64, (3,3),  activation = 'relu'))\n",
    "model.add(MaxPooling2D(pool_size = (2,2)))\n",
    "\n",
    "model.add(Conv2D(128,(3,3), activation = 'relu'))\n",
    "model.add(MaxPooling2D(pool_size = (2,2)))\n",
    "\n",
    "# Add a flattening layer.\n",
    "\n",
    "model.add(Flatten())\n",
    "\n",
    "\n",
    "# Add a fully connected layer with 128 units and the RELU activation function. This\n",
    "# will be a hidden layer.  Use the L2 kernel regularizer with a lambda of l2_lambda (defined above).\n",
    "\n",
    "model.add(Dense(units = 128 , activation = 'relu' , kernel_regularizer = regularizers.l2(l2_lambda)))\n",
    "\n",
    "# Add a fully connected layer with 1 unit and the sigmoid activation function.  This\n",
    "# will be the output layer.\n",
    "\n",
    "model.add(Dense(units = 1 , activation = 'sigmoid' , kernel_regularizer = regularizers.l2(l2_lambda)))\n",
    "\n",
    "# Create an Adam optimizer object with learning rate equal to learning_rate (defined above);\n",
    "# call Adam() with the parameter lr=learning_rate and assign it to the variable 'opt'.\n",
    "\n",
    "opt = Adam(learning_rate=learning_rate)\n",
    "\n",
    "\n",
    "# Compile the CNN using the compile() method.  Use the 'adam' optimizer (optimizer=opt), and the \n",
    "# 'binary_crossentropy' loss function.  Use the parameter metrics=['accuracy'].  \n",
    "\n",
    "model.compile(optimizer = opt, loss = 'binary_crossentropy', metrics=['accuracy'])\n",
    "\n",
    "#Print a Summary of the Architecture using the summary() method.\n",
    "model.summary()"
   ]
  },
  {
   "cell_type": "markdown",
   "metadata": {
    "pycharm": {
     "name": "#%% md\n"
    }
   },
   "source": [
    "# Step 2: Load Images and Prepare the Network for training"
   ]
  },
  {
   "cell_type": "code",
   "execution_count": 7,
   "metadata": {
    "pycharm": {
     "name": "#%%\n"
    },
    "ExecuteTime": {
     "end_time": "2024-11-29T04:29:13.120545Z",
     "start_time": "2024-11-29T04:29:12.442820Z"
    }
   },
   "outputs": [
    {
     "name": "stdout",
     "output_type": "stream",
     "text": [
      "Found 23000 images belonging to 2 classes.\n",
      "Found 2000 images belonging to 2 classes.\n"
     ]
    }
   ],
   "source": [
    "# Instantiate ImageDataGenerator objects for the training and validation sets, and load the datasets with the flow_from_directory() method.\n",
    "\n",
    "# Create the ImageDataGenerator() for the training data.  \n",
    "# We want to re-scale the image pixel data to the range 0.0 to 1.0 by dividing by 255.0.  \n",
    "# Also We want to use real-time data augmentation allowing horizontal flips, \n",
    "# and a modest amount of zooming and shearing. \n",
    "# Thus, use the paramters rescale=1./255, shear_range=0.1, zoom_range=0.1, horizontal_flip=True.\n",
    "\n",
    "train_datagen = image.ImageDataGenerator(rescale = 1.0/255, shear_range=0.1, zoom_range=0.1, horizontal_flip=True)\n",
    "\n",
    "\n",
    "# Create the ImageDataGenerator() for the validation data.  It doesn't need any data augmentation,\n",
    "# only the scaling of the image pixel data, so omit everything but the rescale parameter.\n",
    "\n",
    "validation_datagen = image.ImageDataGenerator(rescale = 1.0/255)\n",
    "\n",
    "\n",
    "# Load the training set using train_datagen.flow_from_directory().  Use\n",
    "# target_size = (input_image_size, input_image_size), batch_size=batch_size, and class_mode = 'binary'.\n",
    "\n",
    "training_set = train_datagen.flow_from_directory(\"./train\",\n",
    "                                                 target_size = (input_image_size, input_image_size), \n",
    "                                                 batch_size=batch_size, class_mode = 'binary')\n",
    "\n",
    "\n",
    "# Load the validation dataset using validation_datagen.flow_from_directory(). \n",
    "# Use the same parameters as above.\n",
    "\n",
    "validation_set = validation_datagen.flow_from_directory(\"./valid\",\n",
    "                                                 target_size = (input_image_size, input_image_size), \n",
    "                                                 batch_size=batch_size, class_mode = 'binary')\n",
    "\n"
   ]
  },
  {
   "cell_type": "markdown",
   "metadata": {
    "pycharm": {
     "name": "#%% md\n"
    }
   },
   "source": [
    "# Step 3: Train the CNN Network"
   ]
  },
  {
   "cell_type": "code",
   "execution_count": 8,
   "metadata": {
    "collapsed": false,
    "pycharm": {
     "name": "#%%\n"
    },
    "ExecuteTime": {
     "end_time": "2024-11-29T05:18:58.691686Z",
     "start_time": "2024-11-29T04:29:14.527303Z"
    }
   },
   "outputs": [
    {
     "name": "stdout",
     "output_type": "stream",
     "text": [
      "Epoch 1/40\n",
      "718/718 [==============================] - 56s 77ms/step - loss: 0.7526 - accuracy: 0.5930 - val_loss: 0.6669 - val_accuracy: 0.6089\n",
      "Epoch 2/40\n",
      "718/718 [==============================] - 56s 77ms/step - loss: 0.6261 - accuracy: 0.6611 - val_loss: 0.6118 - val_accuracy: 0.6769\n",
      "Epoch 3/40\n",
      "718/718 [==============================] - 56s 77ms/step - loss: 0.5697 - accuracy: 0.7140 - val_loss: 0.5474 - val_accuracy: 0.7298\n",
      "Epoch 4/40\n",
      "718/718 [==============================] - 56s 78ms/step - loss: 0.5254 - accuracy: 0.7490 - val_loss: 0.5130 - val_accuracy: 0.7495\n",
      "Epoch 5/40\n",
      "718/718 [==============================] - 55s 77ms/step - loss: 0.4831 - accuracy: 0.7770 - val_loss: 0.4695 - val_accuracy: 0.7918\n",
      "Epoch 6/40\n",
      "718/718 [==============================] - 55s 77ms/step - loss: 0.4496 - accuracy: 0.7967 - val_loss: 0.4897 - val_accuracy: 0.7661\n",
      "Epoch 7/40\n",
      "718/718 [==============================] - 55s 77ms/step - loss: 0.4247 - accuracy: 0.8113 - val_loss: 0.4111 - val_accuracy: 0.8150\n",
      "Epoch 8/40\n",
      "718/718 [==============================] - 55s 77ms/step - loss: 0.4074 - accuracy: 0.8236 - val_loss: 0.4014 - val_accuracy: 0.8251\n",
      "Epoch 9/40\n",
      "718/718 [==============================] - 55s 77ms/step - loss: 0.3936 - accuracy: 0.8299 - val_loss: 0.4380 - val_accuracy: 0.8044\n",
      "Epoch 10/40\n",
      "718/718 [==============================] - 70s 97ms/step - loss: 0.3793 - accuracy: 0.8373 - val_loss: 0.3801 - val_accuracy: 0.8342\n",
      "Epoch 11/40\n",
      "718/718 [==============================] - 55s 77ms/step - loss: 0.3657 - accuracy: 0.8464 - val_loss: 0.3653 - val_accuracy: 0.8458\n",
      "Epoch 12/40\n",
      "718/718 [==============================] - 55s 77ms/step - loss: 0.3516 - accuracy: 0.8528 - val_loss: 0.3727 - val_accuracy: 0.8367\n",
      "Epoch 13/40\n",
      "718/718 [==============================] - 57s 79ms/step - loss: 0.3372 - accuracy: 0.8584 - val_loss: 0.3585 - val_accuracy: 0.8528\n",
      "Epoch 14/40\n",
      "718/718 [==============================] - 58s 80ms/step - loss: 0.3289 - accuracy: 0.8641 - val_loss: 0.3668 - val_accuracy: 0.8453\n",
      "Epoch 15/40\n",
      "718/718 [==============================] - 56s 77ms/step - loss: 0.3233 - accuracy: 0.8632 - val_loss: 0.3707 - val_accuracy: 0.8453\n",
      "Epoch 16/40\n",
      "718/718 [==============================] - 291s 405ms/step - loss: 0.3168 - accuracy: 0.8690 - val_loss: 0.3445 - val_accuracy: 0.8518\n",
      "Epoch 17/40\n",
      "718/718 [==============================] - 55s 77ms/step - loss: 0.3052 - accuracy: 0.8765 - val_loss: 0.3486 - val_accuracy: 0.8518\n",
      "Epoch 18/40\n",
      "718/718 [==============================] - 55s 77ms/step - loss: 0.2954 - accuracy: 0.8793 - val_loss: 0.3479 - val_accuracy: 0.8513\n",
      "Epoch 19/40\n",
      "718/718 [==============================] - 55s 77ms/step - loss: 0.2936 - accuracy: 0.8814 - val_loss: 0.3383 - val_accuracy: 0.8564\n",
      "Epoch 20/40\n",
      "718/718 [==============================] - 55s 77ms/step - loss: 0.2846 - accuracy: 0.8839 - val_loss: 0.3272 - val_accuracy: 0.8609\n",
      "Epoch 21/40\n",
      "718/718 [==============================] - 55s 76ms/step - loss: 0.2797 - accuracy: 0.8858 - val_loss: 0.3371 - val_accuracy: 0.8574\n",
      "Epoch 22/40\n",
      "718/718 [==============================] - 508s 708ms/step - loss: 0.2712 - accuracy: 0.8900 - val_loss: 0.3559 - val_accuracy: 0.8569\n",
      "Epoch 23/40\n",
      "718/718 [==============================] - 55s 76ms/step - loss: 0.2618 - accuracy: 0.8963 - val_loss: 0.3220 - val_accuracy: 0.8659\n",
      "Epoch 24/40\n",
      "718/718 [==============================] - 55s 76ms/step - loss: 0.2606 - accuracy: 0.8966 - val_loss: 0.3614 - val_accuracy: 0.8483\n",
      "Epoch 25/40\n",
      "718/718 [==============================] - 55s 76ms/step - loss: 0.2544 - accuracy: 0.8980 - val_loss: 0.3669 - val_accuracy: 0.8443\n",
      "Epoch 26/40\n",
      "718/718 [==============================] - 55s 76ms/step - loss: 0.2500 - accuracy: 0.9004 - val_loss: 0.3300 - val_accuracy: 0.8594\n",
      "Epoch 27/40\n",
      "718/718 [==============================] - 55s 76ms/step - loss: 0.2481 - accuracy: 0.9034 - val_loss: 0.3288 - val_accuracy: 0.8639\n",
      "Epoch 28/40\n",
      "718/718 [==============================] - 57s 79ms/step - loss: 0.2445 - accuracy: 0.9024 - val_loss: 0.3519 - val_accuracy: 0.8624\n",
      "Epoch 29/40\n",
      "718/718 [==============================] - 57s 79ms/step - loss: 0.2377 - accuracy: 0.9080 - val_loss: 0.3506 - val_accuracy: 0.8569\n",
      "Epoch 30/40\n",
      "718/718 [==============================] - 58s 80ms/step - loss: 0.2313 - accuracy: 0.9092 - val_loss: 0.3300 - val_accuracy: 0.8553\n",
      "Epoch 31/40\n",
      "718/718 [==============================] - 57s 80ms/step - loss: 0.2269 - accuracy: 0.9129 - val_loss: 0.3173 - val_accuracy: 0.8664\n",
      "Epoch 32/40\n",
      "718/718 [==============================] - 56s 77ms/step - loss: 0.2263 - accuracy: 0.9124 - val_loss: 0.3226 - val_accuracy: 0.8639\n",
      "Epoch 33/40\n",
      "718/718 [==============================] - 57s 79ms/step - loss: 0.2203 - accuracy: 0.9158 - val_loss: 0.3208 - val_accuracy: 0.8690\n",
      "Epoch 34/40\n",
      "718/718 [==============================] - 58s 81ms/step - loss: 0.2148 - accuracy: 0.9195 - val_loss: 0.3206 - val_accuracy: 0.8745\n",
      "Epoch 35/40\n",
      "718/718 [==============================] - 65s 91ms/step - loss: 0.2126 - accuracy: 0.9181 - val_loss: 0.3088 - val_accuracy: 0.8765\n",
      "Epoch 36/40\n",
      "718/718 [==============================] - 65s 91ms/step - loss: 0.2065 - accuracy: 0.9228 - val_loss: 0.3298 - val_accuracy: 0.8735\n",
      "Epoch 37/40\n",
      "718/718 [==============================] - 64s 89ms/step - loss: 0.2101 - accuracy: 0.9183 - val_loss: 0.3235 - val_accuracy: 0.8700\n",
      "Epoch 38/40\n",
      "718/718 [==============================] - 68s 95ms/step - loss: 0.1991 - accuracy: 0.9250 - val_loss: 0.3370 - val_accuracy: 0.8624\n",
      "Epoch 39/40\n",
      "718/718 [==============================] - 65s 91ms/step - loss: 0.1991 - accuracy: 0.9249 - val_loss: 0.3594 - val_accuracy: 0.8629\n",
      "Epoch 40/40\n",
      "718/718 [==============================] - 63s 87ms/step - loss: 0.1919 - accuracy: 0.9274 - val_loss: 0.3191 - val_accuracy: 0.8775\n"
     ]
    }
   ],
   "source": [
    "# Train the CNN using the fit() function of your CNN.  The first arguments hould be your training set generator from step 2.\n",
    "#\n",
    "# Use steps_per_epoch=training_steps_per_epoch, epochs=num_training_epochs, validation_data=validation_set,\n",
    "# and validation_steps=validation_steps_per_epoch, and verbose=1.\n",
    "#\n",
    "# training_steps_per_epoch defined above as num_training_images / batch_size.  Since each step will process\n",
    "# batch_size images, this number of steps will run through the training set exactly once per eopch.  \n",
    "# This calculation results in steps_per_epoch = num_training_images / batch_size = 718 batches to make one pass through the training set.\n",
    "# This is, of course, done num_training_epochs times.\n",
    "#\n",
    "# Similarly, validation_steps_per_epoch is defined as num_validation_images / batch_size.  Again, this causes\n",
    "# one validation pass to run through the validation set exactly once.  \n",
    "# This calculation results in validation_steps = 2000/32 = 63 batches to make one pass through the validation set.\n",
    "\n",
    "# You should see the loss function and the accuracy improving quite a bit after each of the \n",
    "# first few epochs.  Then it should slow down.  If you allow it to run for more than 40 epochs \n",
    "# you probably won't see much additional improvement (for me, after 55 epochs it was no better \n",
    "# than it was after 40 epochs).\n",
    "\n",
    "# Expect a pause at the end of each epoch as it classifies images from the validation set.  The validation accuracy \n",
    "# should track the training accuracy fairly well.\n",
    "\n",
    "# This will take a while - maybe up to 2-3 hours depending on your CPU.  On my computer (which is an M2 Macbook pro)\n",
    "# it took about 40-45s seconds per epoch training on the CPU (not GPU).   \n",
    "\n",
    "history = model.fit(\n",
    "    training_set, steps_per_epoch=training_steps_per_epoch, \n",
    "    epochs=num_training_epochs, validation_data=validation_set,\n",
    "    validation_steps=validation_steps_per_epoch, verbose=1 )\n",
    "\n"
   ]
  },
  {
   "cell_type": "markdown",
   "metadata": {
    "pycharm": {
     "name": "#%% md\n"
    }
   },
   "source": [
    "# Step 4: Save the model and weights for prediction"
   ]
  },
  {
   "cell_type": "code",
   "execution_count": 9,
   "metadata": {
    "pycharm": {
     "name": "#%%\n"
    },
    "ExecuteTime": {
     "end_time": "2024-11-29T05:19:04.598607Z",
     "start_time": "2024-11-29T05:19:04.541802Z"
    }
   },
   "outputs": [
    {
     "name": "stdout",
     "output_type": "stream",
     "text": [
      "Saved model to disk\n"
     ]
    }
   ],
   "source": [
    "# Save the model using the save() method of the CNN model.\n",
    "\n",
    "# You don't have to code anything here except to change the filename to something suitable for you\n",
    "# and then run this block.\n",
    "\n",
    "model.save('Cat-Dog-Classifier.h5')\n",
    "print(\"Saved model to disk\")"
   ]
  },
  {
   "cell_type": "markdown",
   "metadata": {
    "pycharm": {
     "name": "#%% md\n"
    }
   },
   "source": [
    "# Step 5: Plot the training and Validation Loss/Accuracy"
   ]
  },
  {
   "cell_type": "code",
   "execution_count": 12,
   "metadata": {
    "pycharm": {
     "name": "#%%\n"
    },
    "ExecuteTime": {
     "end_time": "2024-11-29T05:21:02.716774Z",
     "start_time": "2024-11-29T05:21:02.569396Z"
    }
   },
   "outputs": [
    {
     "name": "stdout",
     "output_type": "stream",
     "text": [
      "{'loss': [0.752641499042511, 0.6260794401168823, 0.5696632862091064, 0.5253786444664001, 0.4831232726573944, 0.4496478736400604, 0.4247027635574341, 0.40744268894195557, 0.39359936118125916, 0.37933287024497986, 0.36573103070259094, 0.35157841444015503, 0.3372111916542053, 0.32890647649765015, 0.3233090341091156, 0.3167785406112671, 0.3051576316356659, 0.2954157888889313, 0.2935695946216583, 0.28455987572669983, 0.27969691157341003, 0.2711978852748871, 0.2617895007133484, 0.26060518622398376, 0.2544249892234802, 0.24995233118534088, 0.24807077646255493, 0.24448293447494507, 0.2376995086669922, 0.23125576972961426, 0.22688838839530945, 0.22629769146442413, 0.22025291621685028, 0.21484331786632538, 0.21259984374046326, 0.20646904408931732, 0.21008814871311188, 0.19906318187713623, 0.19912338256835938, 0.19190867245197296], 'accuracy': [0.5930424928665161, 0.6611372232437134, 0.7140369415283203, 0.7489985823631287, 0.7769505381584167, 0.7966736555099487, 0.8113462328910828, 0.8236241936683655, 0.8298937678337097, 0.8372518420219421, 0.846394956111908, 0.8527516722679138, 0.8584117293357849, 0.864115297794342, 0.8632009625434875, 0.8690351843833923, 0.8764803409576416, 0.8792667984962463, 0.8813566565513611, 0.8839254379272461, 0.8858411908149719, 0.8900209069252014, 0.8963340520858765, 0.896638810634613, 0.897988498210907, 0.9004266858100891, 0.9034308791160583, 0.902385950088501, 0.9079589247703552, 0.9091779589653015, 0.9128788113594055, 0.9124433994293213, 0.9157958626747131, 0.9195402264595032, 0.9181034564971924, 0.922849178314209, 0.9183211326599121, 0.9249826073646545, 0.9248955249786377, 0.9273772239685059], 'val_loss': [0.6669073700904846, 0.6118190884590149, 0.5473759174346924, 0.5130044221878052, 0.46950533986091614, 0.48968467116355896, 0.4111194908618927, 0.4013999402523041, 0.4380468726158142, 0.38009917736053467, 0.3653404712677002, 0.3727373480796814, 0.35854455828666687, 0.3667556345462799, 0.3707403838634491, 0.34447506070137024, 0.3486350178718567, 0.3478606045246124, 0.338250070810318, 0.3271830081939697, 0.33713123202323914, 0.35586830973625183, 0.32198336720466614, 0.36142978072166443, 0.36689597368240356, 0.33001795411109924, 0.3287707567214966, 0.3519239127635956, 0.35063111782073975, 0.3299764096736908, 0.31729844212532043, 0.3225545287132263, 0.32081857323646545, 0.32057783007621765, 0.30883440375328064, 0.3297881484031677, 0.32354736328125, 0.336988627910614, 0.3593740463256836, 0.3191319406032562], 'val_accuracy': [0.6088709831237793, 0.6769153475761414, 0.7298387289047241, 0.7494959831237793, 0.7918346524238586, 0.7661290168762207, 0.8150201439857483, 0.8251007795333862, 0.8044354915618896, 0.8341733813285828, 0.8457661271095276, 0.836693525314331, 0.8528226017951965, 0.8452621102333069, 0.8452621102333069, 0.8518145084381104, 0.8518145084381104, 0.8513104915618896, 0.8563507795333862, 0.8608871102333069, 0.8573588728904724, 0.8568548560142517, 0.8659273982048035, 0.8482862710952759, 0.8442540168762207, 0.859375, 0.8639112710952759, 0.8623992204666138, 0.8568548560142517, 0.8553427457809448, 0.866431474685669, 0.8639112710952759, 0.8689516186714172, 0.8744959831237793, 0.8765121102333069, 0.8734878897666931, 0.8699596524238586, 0.8623992204666138, 0.8629032373428345, 0.8775201439857483]}\n"
     ]
    },
    {
     "data": {
      "text/plain": "Text(0, 0.5, 'Loss')"
     },
     "execution_count": 12,
     "metadata": {},
     "output_type": "execute_result"
    },
    {
     "data": {
      "text/plain": "<Figure size 1872x720 with 2 Axes>",
      "image/png": "[encoded data removed]"
     },
     "metadata": {
      "needs_background": "light"
     },
     "output_type": "display_data"
    }
   ],
   "source": [
    "# Use the history of the training and validation accuracy and loss \n",
    "# from the history object returned by model.fit_generator().  Plot\n",
    "# two graphs as described in section 3.6 of the assignment PDF.  \n",
    "#\n",
    "# e.g. history.history['accuracy'] is an array of the training accuracy for each epoch,\n",
    "print(history.history)\n",
    "import matplotlib.pyplot as plt\n",
    "\n",
    "plt.subplots(1,2,figsize=(26, 10))\n",
    "\n",
    "plt.subplot(1,2,1)\n",
    "x =  np.arange(0, num_training_epochs, step=1 )\n",
    "plt.plot(x,history.history['accuracy'] )\n",
    "plt.plot(x,history.history['val_accuracy'] )\n",
    "plt.legend([\"Training\",\"Validation\"])\n",
    "plt.xlabel(\"Epoch\")\n",
    "plt.ylabel(\"Accuracy\")\n",
    "\n",
    "plt.subplot(1,2,2)\n",
    "plt.plot(x,history.history['loss'] )\n",
    "plt.plot(x,history.history['val_loss'] )\n",
    "plt.legend([\"Training\",\"Validation\"])\n",
    "plt.xlabel(\"Epoch\")\n",
    "plt.ylabel(\"Loss\")"
   ]
  },
  {
   "cell_type": "markdown",
   "metadata": {
    "pycharm": {
     "name": "#%% md\n"
    }
   },
   "source": [
    "## Interpreting the Graphs\n",
    "\n",
    "Answer the following questions directly in this block (if you can't produce the graphs yourself, answer based on the sample outputs in the assignment PDF):\n",
    "\n",
    "1. The graphs suggest there may be a problem with our network.  What is it?\n",
    "\n",
    "[Answer here] The problem with the network is overfitting. Overfitting occurs when the model performs exceptionally well on the training data but fails to generalize to unseen data, as indicated by the validation metrics. In this case, the training accuracy continues to improve consistently, reaching 92.73% by epoch 40, while the validation accuracy stops improving after epoch 25, fluctuating around 86.59% to 87.75%. Similarly, the training loss decreases steadily from 0.75 at epoch 1 to 0.19 at epoch 40, but the validation loss starts increasing slightly after epoch 25. These trends indicate that the model is learning patterns specific to the training data, rather than capturing features that would generalize well to the validation data.\n",
    "\n",
    "\n",
    "2. What is it about the graphs that tells you that this is a problem?\n",
    "\n",
    "[Answer here]At epoch 25, the training accuracy reaches 90.03%, and the validation accuracy peaks at 86.59%. However, beyond this point, the validation accuracy begins to fluctuate, and the gap between training and validation accuracy widens. Similarly, the validation loss reaches a low of 0.32 around epoch 25 but begins to increase thereafter, reaching 0.36 at epoch 40. This divergence between training and validation metrics is a key indicator of overfitting, as the model continues to optimize for the training data while losing its ability to perform well on unseen validation data.\n",
    "\n",
    "3. Based on the graphs, at what epoch could we likely stop training and still expect about the same performance on a test dataset?\n",
    "\n",
    "[Answer here]The optimal point to stop training would be around epoch 23 to 25. At epoch 23, the validation accuracy is 86.59%, and the validation loss is 0.32, both of which represent some of the best validation metrics observed in the data. By epoch 25, the validation accuracy remains stable at 86.59%, and the validation loss stays near its minimum. Beyond this point, validation metrics either plateau or deteriorate, indicating no further improvement in generalization. Stopping training around epoch 23 to 25 would provide a model with a strong balance between training performance and generalization, ensuring it performs well on unseen test data.\n"
   ]
  },
  {
   "cell_type": "markdown",
   "metadata": {
    "pycharm": {
     "name": "#%% md\n"
    }
   },
   "source": [
    "# Step 6: Predict Doc/Cat using the Trained Model"
   ]
  },
  {
   "cell_type": "code",
   "execution_count": 13,
   "metadata": {
    "pycharm": {
     "name": "#%%\n"
    },
    "ExecuteTime": {
     "end_time": "2024-11-29T05:24:56.845197Z",
     "start_time": "2024-11-29T05:24:56.108361Z"
    }
   },
   "outputs": [
    {
     "name": "stdout",
     "output_type": "stream",
     "text": [
      "Found 399 images belonging to 2 classes.\n"
     ]
    },
    {
     "name": "stderr",
     "output_type": "stream",
     "text": [
      "/var/folders/nh/9fsl45m17nn6q_xt_zd0wwbw0000gn/T/ipykernel_12895/3278948246.py:25: UserWarning: `Model.predict_generator` is deprecated and will be removed in a future version. Please use `Model.predict`, which supports generators.\n",
      "  probabilities = model.predict_generator( generator )\n"
     ]
    },
    {
     "name": "stdout",
     "output_type": "stream",
     "text": [
      "The classification rate is 87.21804511278195\n"
     ]
    }
   ],
   "source": [
    "# Start by loading your model from disk that you previously saved so you don't have to run through\n",
    "# the rest of the notebook just to test the model.  Change the filename to the same filename you used in Step 4.\n",
    "model = load_model('Cat-Dog-Classifier.h5')\n",
    "\n",
    "# Now, create a data generator for the test images, just like for the training and validation sets.  \n",
    "\n",
    "# We still want to rescale the intensities by dividing by 255 because pre-processing of test images must match\n",
    "# the preprocessing of training and test images.  But we do not want any data augmentation so instantiate\n",
    "# the ImageDataGenerator in the same way you did for the validation set.\n",
    "\n",
    "# When calling flow_from_directory() we need class_mode = None, and shuffle = False so that we don't re-order the data.  \n",
    "# Use the same target_size and batch_size as before.\n",
    "\n",
    "test_datagen = image.ImageDataGenerator(rescale = 1.0/255)\n",
    "\n",
    "generator = test_datagen.flow_from_directory(\"./test1\",\n",
    "                                                 target_size = (input_image_size, input_image_size), \n",
    "                                                 batch_size=batch_size, class_mode = None,\n",
    "                                                shuffle=False\n",
    "                                            )\n",
    "\n",
    "# Now call model.predict_generator().\n",
    "# The parameter to model.predict_generator() should be the 'generator' object, above.\n",
    "\n",
    "probabilities = model.predict_generator( generator )\n",
    "\n",
    "# take the 'probabilities' array, above, and convert to an array y_pred which is equal to 1 if \n",
    "# probabilities > .5, and 0 otherwise.  Also use np.squeeze() to remove the second dimension \n",
    "# of the array (which has length 1 and is not needed) so that y_pred has shape (499,), i.e. a 1-D array.  \n",
    "# If you've done this right, your y_pred array should be exactly the same shape as generator.classes.\n",
    "prob = np.squeeze(probabilities)\n",
    "y_pred = np.zeros_like(prob, dtype=int)\n",
    "y_pred[prob <= 0.5] = 0\n",
    "y_pred[prob > 0.5] = 1\n",
    "\n",
    "# print(y_pred)\n",
    "# print(generator.classes)\n",
    "# Compare y_pred to generator.classes, which are the correct class labels, and compute and print out the classification accuracy.\n",
    "# You should expect a classification rate of around 85%.\n",
    "\n",
    "accuracy = ( np.sum(y_pred == generator.classes)/len(generator.classes) )* 100\n",
    "print('The classification rate is', accuracy)\n",
    "                                        "
   ]
  },
  {
   "cell_type": "code",
   "execution_count": null,
   "metadata": {
    "pycharm": {
     "name": "#%%\n"
    }
   },
   "outputs": [],
   "source": []
  }
 ],
 "metadata": {
  "kernelspec": {
   "display_name": "Python 3 (ipykernel)",
   "language": "python",
   "name": "python3"
  },
  "language_info": {
   "codemirror_mode": {
    "name": "ipython",
    "version": 3
   },
   "file_extension": ".py",
   "mimetype": "text/x-python",
   "name": "python",
   "nbconvert_exporter": "python",
   "pygments_lexer": "ipython3",
   "version": "3.9.16"
  },
  "pycharm": {
   "stem_cell": {
    "cell_type": "raw",
    "metadata": {
     "collapsed": false
    },
    "source": []
   }
  }
 },
 "nbformat": 4,
 "nbformat_minor": 4
}
