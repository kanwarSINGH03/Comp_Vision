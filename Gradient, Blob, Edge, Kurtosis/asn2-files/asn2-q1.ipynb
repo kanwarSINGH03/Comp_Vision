{
 "cells": [
  {
   "cell_type": "markdown",
   "metadata": {
    "pycharm": {
     "name": "#%% md\n"
    }
   },
   "source": [
    "# Question 1\n",
    "\n",
    "In this question we will\n",
    "- Implement the vector grandient operators for colour images.\n",
    "- Implement the kurtosis measure of image blur/sharpness which is caluclated from image gradients and assess whether it is a reasonable metric of blur.\n",
    "- Learn to create blur maps of images to visualize the amount of blur in local image patches.\n",
    "\n"
   ]
  },
  {
   "cell_type": "markdown",
   "metadata": {
    "pycharm": {
     "name": "#%% md\n"
    }
   },
   "source": [
    "# Step 1: Implement the vector gradient.\n",
    "\n",
    "Implement the vector gradient as described in the lecture slides in the `color_sobel_edges()` function below.  Use Sobel filters to estimate partial derivatives.  Use the `color_dot_product()` function (provided) to compute the necessary dot products to obtain gxx, gyy, and gxy.  Return an array containing the gradient magnitudes for each pixel, i.e. a graident magnitude image.  Optionally, return a second array containing the gradient directions for each pixel.\n",
    "\n",
    "The input image must be dtype `float` or `uint8`.  If it is `uint8` convert it to `float` before processing.  Leave the magnitude image ouput as dtype `float` regardless of the input's dtype."
   ]
  },
  {
   "cell_type": "code",
   "execution_count": 1,
   "metadata": {
    "pycharm": {
     "name": "#%%\n"
    },
    "ExecuteTime": {
     "end_time": "2024-10-18T20:21:37.421473Z",
     "start_time": "2024-10-18T20:20:59.450091Z"
    }
   },
   "outputs": [
    {
     "data": {
      "text/plain": "array([[0.00706971, 0.00750872, 0.02440127, ..., 0.        , 0.        ,\n        0.        ],\n       [0.00949835, 0.02290601, 0.01943698, ..., 0.        , 0.        ,\n        0.        ],\n       [0.02529808, 0.02807416, 0.02279075, ..., 0.        , 0.        ,\n        0.        ],\n       ...,\n       [0.        , 0.        , 0.        , ..., 0.00554594, 0.00620054,\n        0.00620054],\n       [0.        , 0.        , 0.        , ..., 0.00554594, 0.00438445,\n        0.00196078],\n       [0.        , 0.        , 0.        , ..., 0.00554594, 0.00554594,\n        0.00554594]])"
     },
     "execution_count": 1,
     "metadata": {},
     "output_type": "execute_result"
    }
   ],
   "source": [
    "import skimage.util as util\n",
    "import numpy as np\n",
    "import skimage.filters as filt\n",
    "import skimage.io as skio\n",
    "\n",
    "def color_dot_product(A, B):\n",
    "    '''\n",
    "    Element-by-element dot product in a 2D array of vectors.\n",
    "\n",
    "    :return: An array in which index [i,j] is the dot product of A[i,j,:] and B[i,j,:].\n",
    "    '''\n",
    "    return np.sum(A.conj()*B, axis=2)\n",
    "\n",
    "\n",
    "\n",
    "def color_sobel_edges(I):\n",
    "    '''\n",
    "    Finish me!\n",
    "    \n",
    "    :param I: \n",
    "    :return: \n",
    "    '''\n",
    "    if I.dtype == np.uint8:\n",
    "        I = util.img_as_float(I)\n",
    "        \n",
    "    R_x = filt.sobel_v(I[:, :, 0]) \n",
    "    R_y = filt.sobel_h(I[:, :, 0])  \n",
    "\n",
    "    G_x = filt.sobel_v(I[:, :, 1])  \n",
    "    G_y = filt.sobel_h(I[:, :, 1])  \n",
    "\n",
    "    B_x = filt.sobel_v(I[:, :, 2]) \n",
    "    B_y = filt.sobel_h(I[:, :, 2])\n",
    "    \n",
    "    \n",
    "    U = np.stack([R_x, G_x, B_x], axis=-1)\n",
    "    V = np.stack([R_y, G_y, B_y], axis=-1)\n",
    "    \n",
    "    # print(U)\n",
    "    \n",
    "    g_xx = color_dot_product(U, U)\n",
    "    g_yy = color_dot_product(V, V)\n",
    "    g_xy = color_dot_product(U, V)\n",
    "    \n",
    "    gradient_direction = 0.5 * np.arctan2(2 * g_xy, g_xx - g_yy)\n",
    "    gradient_magnitude = np.sqrt(\n",
    "        0.5 * \n",
    "        (\n",
    "            (g_xx + g_yy) + (g_xx - g_yy) * np.cos(2 * gradient_direction) + 2 * g_xy * np.sin(2 * gradient_direction)\n",
    "              \n",
    "        )\n",
    "    )\n",
    "    \n",
    "    \n",
    "    return (gradient_direction, gradient_magnitude)\n",
    "\n",
    "# print(color_sobel_edges(skio.imread(\"mushroom.jpg\"))[1])\n",
    "# color_sobel_edges(skio.imread(\"mushroom.jpg\"))\n",
    "mushroom_grad_m = color_sobel_edges(skio.imread(\"mushroom.jpg\"))[1]\n",
    "mushroom_grad_m"
   ]
  },
  {
   "cell_type": "markdown",
   "metadata": {
    "pycharm": {
     "name": "#%% md\n"
    }
   },
   "source": [
    "# Step 2: Examine behavior of the kurtosis sharpness metric.\n",
    "\n",
    "Write a function which:\n",
    "\n",
    "* takes as input an input image, a minimum value of sigma, and a maximum value of sigma.\n",
    "* applies different amounts of Gaussian blur to the original image for integer values of sigma between the provided minimum and maximum values of sigma. (reminder: sigma describes the standard deviation of the gaussian filter mask used to blur the image).\n",
    "    * Note: if using `skimage.filters.gaussian()`, you'll need to set the `channel_axis` parameter appropriately since you are applying it to a colour image.\n",
    "* For each blurred image, compute the gradient magnitude using color_sobel_edges(), then compute compute the kurtosis sharpness measure.  This is *log(k+3)* where *k* is the kurtosis of the gradient magnitude image of the blurred image as described in the assignment description document.  See `scipy.stats.kurtosis()`.\n",
    "* Return a tuple consisting of the range object of sigma values used and the list of computed kurtosis values for each sigma.\n",
    "\n",
    "Then:\n",
    "* Call the function using `mushroom.jpg` as the input image, a minimum sigma of 1, and a maximum sigma of 30.  Use a smaller max sigma until you are sure it's working, then increase to 30, as it can take a few minutes to do all the filtering.  Use the return values from your function to plot a line graph of gaussian blur sigma vs. blur measure (kurtosis) for the waterfall image.  Add appropriate axis labels and a descriptive title.  Sample output is provided in the assignment description document.\n",
    "\n"
   ]
  },
  {
   "cell_type": "code",
   "execution_count": 3,
   "metadata": {
    "pycharm": {
     "name": "#%%\n"
    }
   },
   "outputs": [],
   "source": [
    "\n",
    "%matplotlib inline\n",
    "\n",
    "def test_blur_measure(I, min_sigma, max_sigma):\n",
    "    '''\n",
    "    Finish me!\n",
    "    \n",
    "    :param I: \n",
    "    :param min_sigma: \n",
    "    :param max_sigma: \n",
    "    :return: \n",
    "    '''\n"
   ]
  },
  {
   "cell_type": "markdown",
   "metadata": {
    "pycharm": {
     "name": "#%% md\n"
    }
   },
   "source": [
    "# Step 3:  Create a local blur map\n",
    "\n",
    "Write a function which:\n",
    "\n",
    "* takes as input an image and a window size (in pixels).\n",
    "* computes the local sharpness of the input image (i.e. log(kurtosis+3)) for each tiled, non-overlapping square window of the given window size\n",
    "* stores each local sharpness in an array where each entry represents one window of the input image (the size of this array can be computed by integer division of the original image dimensions by the window size)\n",
    "* returns the array of local sharpnesses.\n",
    "\n",
    "Then:\n",
    "\n",
    "- call the function you just wrote with `mushroom.jpg` as the input image and 100 as the window size.  \n",
    "- Plot the returned array as an image using `plt.imshow()`.  Do not rescale this image with `vmin=` or `vmax=`, and use the default colormap (don't change it to `'gray'`).  \n",
    "- Add a color scale bar using `plt.colorbar()`.  Sample output is provided in the assignment description document.\n",
    "\n"
   ]
  },
  {
   "cell_type": "code",
   "execution_count": 3,
   "metadata": {
    "pycharm": {
     "name": "#%%\n"
    }
   },
   "outputs": [],
   "source": [
    "def sharpness_map(I, window_size):\n",
    "    '''\n",
    "    \n",
    "    Finish me!\n",
    "    \n",
    "    :param I: \n",
    "    :param window_size: \n",
    "    :return: \n",
    "    '''\n"
   ]
  },
  {
   "cell_type": "markdown",
   "metadata": {
    "pycharm": {
     "name": "#%% md\n"
    }
   },
   "source": [
    "# Step 4: Try it on another image.\n",
    "\n",
    "Use the functions you wrote to produce the same plots as in steps 2 and 3 but for the `waterfall.jpg` image instead.\n"
   ]
  },
  {
   "cell_type": "code",
   "execution_count": 5,
   "metadata": {
    "pycharm": {
     "name": "#%%\n"
    }
   },
   "outputs": [],
   "source": [
    "# Write your code here."
   ]
  },
  {
   "cell_type": "markdown",
   "metadata": {
    "pycharm": {
     "name": "#%% md\n"
    }
   },
   "source": [
    "# Step 5: Thinking and Qualitative Analysis\n",
    "\n",
    "### Answer the following questions, right here in this block.\n",
    "\n",
    "1. Based on your observations of the previous results (you can try it on additional images if you wish), discuss the advantages and disadvantages of the kurtosis-based measure of image sharpness, citing specific evidence observed to justify your claims.\n",
    "\n",
    "\t_Your answer:_  \n",
    "    \n",
    "2. Think of what the shape of a histogram of gradient magnitudes would look like for a sharp image.  Why does this set of gradient magnitudes have high kurtosis?  (It might help to look up kurtosis and see what it measures about a histogram!)\n",
    "\n",
    "\t_Your answer:_  \n",
    "\n",
    "3. Now think what would happen as that same image gets blurrier.  Explain how the shape of the histogram would change, and the corresponding effect on the kurtosis.\n",
    "\n",
    "\t_Your answer:_  "
   ]
  },
  {
   "cell_type": "code",
   "execution_count": null,
   "metadata": {
    "pycharm": {
     "name": "#%%\n"
    }
   },
   "outputs": [],
   "source": []
  }
 ],
 "metadata": {
  "kernelspec": {
   "display_name": "Python 3 (ipykernel)",
   "language": "python",
   "name": "python3"
  },
  "language_info": {
   "codemirror_mode": {
    "name": "ipython",
    "version": 3
   },
   "file_extension": ".py",
   "mimetype": "text/x-python",
   "name": "python",
   "nbconvert_exporter": "python",
   "pygments_lexer": "ipython3",
   "version": "3.9.16"
  }
 },
 "nbformat": 4,
 "nbformat_minor": 4
}
