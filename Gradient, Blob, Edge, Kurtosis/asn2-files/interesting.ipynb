{
 "cells": [
  {
   "cell_type": "code",
   "execution_count": 2,
   "id": "initial_id",
   "metadata": {
    "collapsed": true,
    "ExecuteTime": {
     "end_time": "2024-11-04T03:03:00.061218Z",
     "start_time": "2024-11-04T03:01:55.874862Z"
    }
   },
   "outputs": [
    {
     "name": "stderr",
     "output_type": "stream",
     "text": [
      "[ WARN:0@9.094] global cap.cpp:645 open VIDEOIO(CV_IMAGES): raised OpenCV exception:\n",
      "\n",
      "OpenCV(4.10.0) /private/var/folders/nh/9fsl45m17nn6q_xt_zd0wwbw0000gn/T/pip-install-u12y8fzp/opencv-python_59968b132eef4ebabab189c0fe8546f5/opencv/modules/videoio/src/cap_images.cpp:430: error: (-215:Assertion failed) !filename_pattern.empty() in function 'open'\n",
      "\n",
      "\n",
      "2024-11-03 21:01:56.257 python[76754:3594847] WARNING: AVCaptureDeviceTypeExternal is deprecated for Continuity Cameras. Please use AVCaptureDeviceTypeContinuityCamera and add NSCameraUseContinuityCameraDeviceType to your Info.plist.\n",
      "2024-11-03 21:02:05.331 python[76754:3594847] +[IMKClient subclass]: chose IMKClient_Modern\n",
      "2024-11-03 21:02:05.331 python[76754:3594847] +[IMKInputSession subclass]: chose IMKInputSession_Modern\n"
     ]
    },
    {
     "ename": "KeyboardInterrupt",
     "evalue": "",
     "output_type": "error",
     "traceback": [
      "\u001B[0;31m---------------------------------------------------------------------------\u001B[0m",
      "\u001B[0;31mKeyboardInterrupt\u001B[0m                         Traceback (most recent call last)",
      "\u001B[0;32m/var/folders/nh/9fsl45m17nn6q_xt_zd0wwbw0000gn/T/ipykernel_76754/712154419.py\u001B[0m in \u001B[0;36m<module>\u001B[0;34m\u001B[0m\n\u001B[1;32m     22\u001B[0m \u001B[0;31m## Read every frame from the webcam, until the camera is open\u001B[0m\u001B[0;34m\u001B[0m\u001B[0;34m\u001B[0m\u001B[0m\n\u001B[1;32m     23\u001B[0m \u001B[0;32mwhile\u001B[0m \u001B[0;34m(\u001B[0m\u001B[0mcap\u001B[0m\u001B[0;34m.\u001B[0m\u001B[0misOpened\u001B[0m\u001B[0;34m(\u001B[0m\u001B[0;34m)\u001B[0m\u001B[0;34m)\u001B[0m\u001B[0;34m:\u001B[0m\u001B[0;34m\u001B[0m\u001B[0;34m\u001B[0m\u001B[0m\n\u001B[0;32m---> 24\u001B[0;31m     \u001B[0mret\u001B[0m\u001B[0;34m,\u001B[0m \u001B[0mimg\u001B[0m \u001B[0;34m=\u001B[0m \u001B[0mcap\u001B[0m\u001B[0;34m.\u001B[0m\u001B[0mread\u001B[0m\u001B[0;34m(\u001B[0m\u001B[0;34m)\u001B[0m\u001B[0;34m\u001B[0m\u001B[0;34m\u001B[0m\u001B[0m\n\u001B[0m\u001B[1;32m     25\u001B[0m     \u001B[0;32mif\u001B[0m \u001B[0;32mnot\u001B[0m \u001B[0mret\u001B[0m\u001B[0;34m:\u001B[0m\u001B[0;34m\u001B[0m\u001B[0;34m\u001B[0m\u001B[0m\n\u001B[1;32m     26\u001B[0m         \u001B[0;32mbreak\u001B[0m\u001B[0;34m\u001B[0m\u001B[0;34m\u001B[0m\u001B[0m\n",
      "\u001B[0;31mKeyboardInterrupt\u001B[0m: "
     ]
    }
   ],
   "source": [
    "import cv2\n",
    "import time\n",
    "import numpy as np\n",
    "\n",
    "## Preparation for writing the ouput video\n",
    "fourcc = cv2.VideoWriter_fourcc(*'XVID')\n",
    "out = cv2.VideoWriter('output.avi', fourcc, 20.0, (640, 480))\n",
    "\n",
    "##reading from the webcam\n",
    "cap = cv2.VideoCapture(0)\n",
    "\n",
    "## Allow the system to sleep for 3 seconds before the webcam starts\n",
    "time.sleep(3)\n",
    "count = 0\n",
    "background = 0\n",
    "\n",
    "## Capture the background in range of 60\n",
    "for i in range(60):\n",
    "    ret, background = cap.read()\n",
    "background = np.flip(background, axis=1)\n",
    "\n",
    "## Read every frame from the webcam, until the camera is open\n",
    "while (cap.isOpened()):\n",
    "    ret, img = cap.read()\n",
    "    if not ret:\n",
    "        break\n",
    "    count += 1\n",
    "    img = np.flip(img, axis=1)\n",
    "\n",
    "    ## Convert the color space from BGR to HSV\n",
    "    hsv = cv2.cvtColor(img, cv2.COLOR_BGR2HSV)\n",
    "\n",
    "    ## Generat masks to detect red color\n",
    "    lower_red = np.array([0, 120, 50])\n",
    "    upper_red = np.array([10, 255,255])\n",
    "    mask1 = cv2.inRange(hsv, lower_red, upper_red)\n",
    "\n",
    "    lower_red = np.array([170, 120, 70])\n",
    "    upper_red = np.array([180, 255, 255])\n",
    "    mask2 = cv2.inRange(hsv, lower_red, upper_red)\n",
    "\n",
    "    mask1 = mask1 + mask2\n",
    "\n",
    "    ## Open and Dilate the mask image\n",
    "    mask1 = cv2.morphologyEx(mask1, cv2.MORPH_OPEN, np.ones((3, 3), np.uint8))\n",
    "    mask1 = cv2.morphologyEx(mask1, cv2.MORPH_DILATE, np.ones((3, 3), np.uint8))\n",
    "\n",
    "    ## Create an inverted mask to segment out the red color from the frame\n",
    "    mask2 = cv2.bitwise_not(mask1)\n",
    "\n",
    "    ## Segment the red color part out of the frame using bitwise and with the inverted mask\n",
    "    res1 = cv2.bitwise_and(img, img, mask=mask2)\n",
    "\n",
    "    ## Create image showing static background frame pixels only for the masked region\n",
    "    res2 = cv2.bitwise_and(background, background, mask=mask1)\n",
    "\n",
    "    ## Generating the final output and writing\n",
    "    finalOutput = cv2.addWeighted(res1, 1, res2, 1, 0)\n",
    "    out.write(finalOutput)\n",
    "    cv2.imshow(\"magic\", finalOutput)\n",
    "    cv2.waitKey(1)\n",
    "\n",
    "\n",
    "cap.release()\n",
    "out.release()\n",
    "cv2.destroyAllWindows()\n",
    "\n",
    "\n",
    "#colors code\n",
    "\n",
    "#skin color\n",
    "#lower_red = np.array([0, 0, 70])\n",
    "#upper_red = np.array([100, 255,255])\n",
    "# mask1 = cv2.inRange(hsv, lower_red, upper_red)\n",
    "\n",
    "# lower_red = np.array([170, 120, 70])\n",
    "#  upper_red = np.array([180, 255, 255])\n",
    "\n",
    "#-----------------------"
   ]
  },
  {
   "cell_type": "code",
   "outputs": [],
   "source": [],
   "metadata": {
    "collapsed": false
   },
   "id": "16372fb15268ab6b"
  }
 ],
 "metadata": {
  "kernelspec": {
   "display_name": "Python 3",
   "language": "python",
   "name": "python3"
  },
  "language_info": {
   "codemirror_mode": {
    "name": "ipython",
    "version": 2
   },
   "file_extension": ".py",
   "mimetype": "text/x-python",
   "name": "python",
   "nbconvert_exporter": "python",
   "pygments_lexer": "ipython2",
   "version": "2.7.6"
  }
 },
 "nbformat": 4,
 "nbformat_minor": 5
}
