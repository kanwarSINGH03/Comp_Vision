{
 "cells": [
  {
   "cell_type": "markdown",
   "metadata": {},
   "source": [
    "# Question 3\n",
    "\n",
    "In this question we will\n",
    "- Practice using the Canny edge detector to identify significant edges in images.\n",
    "\n"
   ]
  },
  {
   "cell_type": "code",
   "execution_count": 84,
   "metadata": {},
   "outputs": [],
   "source": [
    "# boilerplate imports\n",
    "\n",
    "import matplotlib.pyplot as plt\n",
    "import skimage.data as skdata\n",
    "import skimage.feature as skfeat\n",
    "import skimage.color as skcolor\n",
    "import skimage.io as skio"
   ]
  },
  {
   "cell_type": "markdown",
   "metadata": {},
   "source": [
    "# Step 1: Perform Canny edge detection on the `skdata.astronaut()` image.\n",
    "\n",
    "- call skimage.astronaut() to obtain the image\n",
    "- convert it to grayscale\n",
    "- perform Canny edge detection (`skfeat.canny()` function) on the grayscale image -- select the parameters to optimize the edge detection to find only the edges of major salient objects in the scene such as the person, helmet, flag, and space shuttle model (you won't be able to do this perfectly, but do the best you can).  \n",
    "- display the result of the Canny edge detection as a binary image."
   ]
  },
  {
   "cell_type": "code",
   "execution_count": 1,
   "metadata": {},
   "outputs": [],
   "source": [
    "# Write your code here.\n",
    "\n",
    "\n"
   ]
  },
  {
   "cell_type": "markdown",
   "metadata": {},
   "source": [
    "# Step 2: Justify your parameter selection\n",
    "\n",
    "Explain why you selected the parameters that you did and justify why they are appropriate for the given edge detection task and context.\n",
    "\n",
    "*Write your answer here:*\n"
   ]
  },
  {
   "cell_type": "markdown",
   "metadata": {},
   "source": [
    "# Step 3: Repeat for the `mushroom.jpg` image.\n",
    "\n",
    "- load the image file `mushroom.jpg` provided with this assignment and convert it to grayscale\n",
    "- perform Canny edge detection on the grayscale image -- select the parameters to find only the edges of the five mushrooms in the foreground that are in focus (you won't be able to do this perfectly, but do the best you can).\n",
    "- display the result of the Canny edge detection as a binary image."
   ]
  },
  {
   "cell_type": "code",
   "execution_count": 2,
   "metadata": {},
   "outputs": [],
   "source": [
    "# Since this image is a little larger, it may display with a fuzzy appearance if you don't increase the \n",
    "# resolution of figure rendering a bit.  Before you call plt.imshow(), call plt.figure(dpi=300).  \n",
    "# This will result in a clearer display of the binary edge image.\n",
    "\n"
   ]
  },
  {
   "cell_type": "markdown",
   "metadata": {},
   "source": [
    "# Step 4: Justify your parameter selection\n",
    "\n",
    "Explain why you selected the parameters that you did and justify why they are appropriate for the given edge detection task and context.\n",
    "\n",
    "*Write your answer here:*\n",
    "\n"
   ]
  },
  {
   "cell_type": "code",
   "execution_count": null,
   "metadata": {},
   "outputs": [],
   "source": []
  }
 ],
 "metadata": {
  "kernelspec": {
   "display_name": "Python 3 (ipykernel)",
   "language": "python",
   "name": "python3"
  },
  "language_info": {
   "codemirror_mode": {
    "name": "ipython",
    "version": 3
   },
   "file_extension": ".py",
   "mimetype": "text/x-python",
   "name": "python",
   "nbconvert_exporter": "python",
   "pygments_lexer": "ipython3",
   "version": "3.9.16"
  },
  "pycharm": {
   "stem_cell": {
    "cell_type": "raw",
    "metadata": {
     "collapsed": false
    },
    "source": []
   }
  }
 },
 "nbformat": 4,
 "nbformat_minor": 4
}
