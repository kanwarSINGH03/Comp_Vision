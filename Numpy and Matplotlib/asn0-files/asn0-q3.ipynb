{
 "cells": [
  {
   "cell_type": "markdown",
   "metadata": {
    "pycharm": {
     "name": "#%% md\n"
    }
   },
   "source": [
    "# Question 3\n",
    "\n",
    "## In this question we will:\n",
    "- Compute and display an image's histogram.\n",
    "- Practice displaying multiple plots in a single figure (see Assignment PDF section 2.7)\n",
    "- Learn to maniuplate the overall plot size and aspect ratio\n",
    "- Practice some grayscale transformations we learned in Lecture 2.\n",
    "- Plot images with their Histograms in a single figure\n"
   ]
  },
  {
   "cell_type": "code",
   "execution_count": 1,
   "metadata": {
    "pycharm": {
     "is_executing": false,
     "name": "#%%\n"
    }
   },
   "outputs": [],
   "source": [
    "# Boilerplate imports\n",
    "%matplotlib inline  \n",
    "\n",
    "import skimage.io as io\n",
    "import matplotlib.pyplot as plt\n",
    "import numpy as np\n",
    "import skimage.exposure as exposure\n",
    "import skimage.util as skutil\n",
    "import skimage.color as skcolor\n"
   ]
  },
  {
   "cell_type": "markdown",
   "metadata": {},
   "source": [
    "# Step 1: Displaying an image's histogram\n",
    "\n",
    "To display an image's histogram, you first need to obtain the histogram.  Note that this is a different operation than histogram equalization.  Given an image, we just want to obtain it's histogram without modifying the image.  This can be done with the np.histogram() function which returns two arrays:  a one-dimensional numpy array containing the bin counts for each bin of the histogram, and an array called `bin_edges` which we can ignore.  But remember that the return value is a tuple of two items and we only need the first one of the pair containing the bin counts.\n"
   ]
  },
  {
   "cell_type": "code",
   "execution_count": 11,
   "metadata": {},
   "outputs": [],
   "source": [
    "# TODO Load the parrot image.  Make sure it is stored as an 8-bit grayscale image using skutil.image_as_ubyte()\n",
    "\n",
    "\n",
    "# TODO Convert the colour parrot image to grayscale \n",
    "#      (don't overwrite the colour image -- we'll need it later).\n",
    "\n",
    "\n",
    "# TODO Display the grayscale parrot image.\n",
    "\n",
    "\n",
    "\n",
    "# TODO Display the histogram of the grayscale parrot image in a *separate figure*.  Use np.histogram() to obtain the histogram and\n",
    "#     use plt.bar() to display it.   Note that np.histogram() returns a tuple of *two* arrays.  We only need\n",
    "#     the first array of the tuple, which is array of counts for each histogram bin.  If the histogram doesn't\n",
    "#     look like you expect, or you get errors, make sure the length of the parameter x to the plt.bar() function \n",
    "#     matches the length of the array of histogram bin counts.  Also you may need to take a look at the optional\n",
    "#     bins parameter to np.histogram().  Read the documentation for both functions as needed.  We want a bin\n",
    "#     for each intensity level in the original image.\n",
    "\n"
   ]
  },
  {
   "cell_type": "markdown",
   "metadata": {},
   "source": [
    "# Step 2: Display the image and the histogram together in single figure"
   ]
  },
  {
   "cell_type": "code",
   "execution_count": 10,
   "metadata": {},
   "outputs": [
    {
     "data": {
      "text/plain": [
       "<Figure size 640x480 with 0 Axes>"
      ]
     },
     "metadata": {},
     "output_type": "display_data"
    }
   ],
   "source": [
    "# TODO Modify your solution in step 1 to use plt.subplots() and plt.subplot() \n",
    "#      so that both plots are shown in the same figure, side-by-side. \n",
    "#      (see section 2.7 of the assignment PDF).  Don't worry if the\n",
    "#      histogram looks squished.  We'll fix that in Step 3.\n",
    "\n",
    "\n",
    "# Here (after the figure is created) we call plt.tight_layout() which is very helpful for subplots.  \n",
    "# It adds whitespace around subplots so things look more attractive.\n",
    "plt.tight_layout()\n"
   ]
  },
  {
   "cell_type": "markdown",
   "metadata": {},
   "source": [
    "# Step 3: Modify the figure size and aspect ratio\n",
    "\n",
    "In step 2 you might have noticed that the histogram looks squished.  This is because the default aspect ratio of a figure is not suitable to the aspect ratio of the figure we want to create.  Here we will fix that by changing the aspect ratio of the figure.  "
   ]
  },
  {
   "cell_type": "code",
   "execution_count": 7,
   "metadata": {},
   "outputs": [],
   "source": [
    "# TODO Repeat the code you used to solve Step 2 here (including the call to plt.tight_layout()).\n",
    "#      Then add the following optional parameter to plt.subplots():   figsize=(8, 4)\n",
    "#      Feel free to play around with the figsize parameter.  The first number is the figure width, \n",
    "#      the second is the figure height."
   ]
  },
  {
   "cell_type": "markdown",
   "metadata": {},
   "source": [
    "# Step 4: Display some transforms of the parrot image.\n",
    "\n",
    "In a 1 by 3 grid of subplots, display the original color parrot image in the left subfigure, display the negated color image in the middle subfigure, and display the colour parrot image after a gamma transform with gamma = 0.4 in the right subfigure.  Use a figure size that provides an aspect ratio that results in an attractive figure.  Place a title on each subplot, identifying it."
   ]
  },
  {
   "cell_type": "code",
   "execution_count": 8,
   "metadata": {},
   "outputs": [],
   "source": [
    "# TODO: Follow the step 4 instructions above.\n"
   ]
  },
  {
   "cell_type": "markdown",
   "metadata": {},
   "source": [
    "# Step 5: Display channel histograms of a colour image.\n",
    "\n",
    "- Create a 2 by 3 grid of subplots.  The top row of 3 plots must display the grayscale images of the red, green, and blue channels of the original colour parrot image.   The bottom row must display the histograms of the corresponding histograms in the top row.  \n",
    "- The figure layout should display the channels of the original image in order of R, G, and B from left to right.  Use numpy array slicing to obtain the image channels.  Recall that the channel is the 3rd index of the 3D numpy array that stores the parrot image.  Index 0 is the red channel, index 1 is the green channel, and index 2 is the blue channel.  \n",
    "- Use a figure size that provides an aspect ratio that results in an attractive figure. Place a title on each subplot, identifying it.\n",
    "- Set the range of the y-axis on the three histogram plots so that they are all the same. Use the range(0, 3000)."
   ]
  },
  {
   "cell_type": "code",
   "execution_count": 6,
   "metadata": {},
   "outputs": [],
   "source": [
    "# TODO: Follow the step 4 instructions above.\n"
   ]
  }
 ],
 "metadata": {
  "kernelspec": {
   "display_name": "Python 3 (ipykernel)",
   "language": "python",
   "name": "python3"
  },
  "language_info": {
   "codemirror_mode": {
    "name": "ipython",
    "version": 3
   },
   "file_extension": ".py",
   "mimetype": "text/x-python",
   "name": "python",
   "nbconvert_exporter": "python",
   "pygments_lexer": "ipython3",
   "version": "3.9.16"
  },
  "pycharm": {
   "stem_cell": {
    "cell_type": "raw",
    "metadata": {
     "collapsed": false
    },
    "source": []
   }
  }
 },
 "nbformat": 4,
 "nbformat_minor": 4
}
