{
 "cells": [
  {
   "cell_type": "markdown",
   "metadata": {},
   "source": [
    "# Question 1\n",
    "\n",
    "## In this question we will:\n",
    "* Learn to load, save, and display images.\n",
    "* Learn basic display of figures (plt.figure())\n",
    "* Learn basic image manipulation:\n",
    "\t* data type conversion\n",
    "\t* colour to grayscale\n",
    "\n",
    "**To begin, follow the instructions in the code comments marked with `TODO`.**"
   ]
  },
  {
   "cell_type": "code",
   "execution_count": 1,
   "metadata": {
    "tags": []
   },
   "outputs": [],
   "source": [
    "# Boilerplate imports\n",
    "%matplotlib inline  \n",
    "\n",
    "import skimage.io as io\n",
    "import matplotlib.pyplot as plt\n",
    "import skimage.util as util\n",
    "import skimage.color as color\n",
    "\n",
    "\n",
    "# TODO Load the provided jupiter_hs-2008-contrast-adjusted.png \n",
    "# file and print out its data type.\n",
    "\n",
    "\n",
    "# TODO Convert the image to data type float using \n",
    "# skimage.util.img_as_float().  (Check out the documentation \n",
    "# for skimage.util.  You'll find a full suite of img_as_XXXX() \n",
    "# functions for converting to any data type you want.)\n",
    "\n",
    "\n",
    "# TODO Print the data type of the new image; it should be float64.\n",
    "\n",
    "\n",
    "# TODO Display the float64 version of the image; add an appropriate title with plt.title().\n",
    "\n",
    "\n",
    "# TODO Display a grayscale version of the image with an appropriate title \n",
    "# Hint: use skimage.color.rgb2gray().  After you've done this,\n",
    "# make sure you read the text block below this code block if\n",
    "# you get a result you didn't expect."
   ]
  },
  {
   "cell_type": "markdown",
   "metadata": {},
   "source": [
    "If you got this far, you're probably wondering why your grayscale image didn't display as grayscale?  It's because the default matplotlib colour map for grayscale images is a false-colour scale.  To force grayscale display, go back and add the arguement: \n",
    "\n",
    "\tcmap='gray' \n",
    "\n",
    "to the call to imshow() above. After doing that, the image should appear grayscale."
   ]
  },
  {
   "cell_type": "markdown",
   "metadata": {},
   "source": [
    "Another thing you should know is that imshow() normalizes the display of grayscale images by default. \n",
    "This means that by default, contrast is adjusted so that the darkest pixels in the image are shown as black (even if they aren't actually black) and the brightest are shown as white (even if they aren't actually white) and other intensities are linearly interpolated inbetween.  You can observe the normalization by noticing that they black background in the grayscale image is a lot darker than the black background in the colour image.\n",
    "\n",
    "Normalization is often fine and sometimes desired, but be aware that if you want to see what your image **really** looks like, you need to add arguments: `vmin=0` and `vmax=1` to your imshow() call.  \n",
    "\n",
    "Try this now; make another figure just like the previous one, but without the normalization by adding arguments `vmin=0` and `vmax=1` to imshow().  Don't forget to also add `cmap='gray'`."
   ]
  },
  {
   "cell_type": "code",
   "execution_count": 2,
   "metadata": {},
   "outputs": [],
   "source": [
    "# TODO Display the greyscale jupiter image again without normalization\n",
    "# as described in the paragraph above."
   ]
  },
  {
   "cell_type": "markdown",
   "metadata": {},
   "source": [
    "Observe how the non-normalized version has less contrast. This is the actual appearance of your image.  The normalization is only advantageous for visualization.  Sometimes images have such low contrast that you want to normalize them to view them.  However, for quantitative purposes, you should always be aware of the true appearance of your images, so get in the habit of using vmin=0 and vmax = 1.\n",
    "\n",
    "You can set the colour map to be 'gray' by default using the following code:\n",
    " \n",
    "\tplt.rcParams['image.cmap'] = 'gray'\n",
    "\n",
    "Unfortunately there is no way to set defaults for vmin and vmax.\n",
    "\n",
    "Note that cmap, vmin, and vmax are completely ignored for colour images. You can see this is true -- look at the colour figure and note how the background intensity is the same as the non-normalized grayscale figure, and different from the normalized grayscale figure."
   ]
  },
  {
   "cell_type": "markdown",
   "metadata": {},
   "source": []
  }
 ],
 "metadata": {
  "kernelspec": {
   "display_name": "Python 3 (ipykernel)",
   "language": "python",
   "name": "python3"
  },
  "language_info": {
   "codemirror_mode": {
    "name": "ipython",
    "version": 3
   },
   "file_extension": ".py",
   "mimetype": "text/x-python",
   "name": "python",
   "nbconvert_exporter": "python",
   "pygments_lexer": "ipython3",
   "version": "3.9.16"
  }
 },
 "nbformat": 4,
 "nbformat_minor": 4
}
