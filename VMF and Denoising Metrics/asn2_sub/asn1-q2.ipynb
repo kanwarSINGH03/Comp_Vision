{
 "cells": [
  {
   "cell_type": "markdown",
   "metadata": {},
   "source": [
    "# Question 2\n",
    "\n",
    "In this question we will:\n",
    "- Implement the vector median filter for colour images.\n",
    "- Apply the vector median filter to a small dataset and establish a baseline performance meteric.\n",
    "- Try to design a denoising pipeline that outperforms using only the vector median filter.   "
   ]
  },
  {
   "cell_type": "markdown",
   "metadata": {},
   "source": [
    "# Step 1: Implement the vector median filter for colour images.\n",
    "\n",
    "## Instructions\n",
    "\n",
    "- Write a function that implements the vector median filter.  Details on the vector median filter can be found in Topic 4 of the lecture notes and implementation suggestions can be found in Section 2 of the asignment PDF.  \n",
    "- The parameters to your function should be the input image `I`, and the `radius` of the square neighbourhood, e.g. radius 1 = 3x3 filter, radius 2 = 5x5 filter, etc.\n",
    "- Your function should accept images of dtype `uint8` or `float64` (other types may be rejected if you wish).    It is easiest if you work with the image as data type `float64`.   If the input image is of type `uint8`, it is suggested that you convert it to dtype `float64`, construct the output image also as type `float64` and then convert it back to `uint8` before returning it.  In any case, the output image returned should be the same dtype as the input image."
   ]
  },
  {
   "cell_type": "code",
   "execution_count": 23,
   "metadata": {
    "tags": []
   },
   "outputs": [],
   "source": [
    "\n",
    "def vector_median(I, radius):\n",
    "    \n",
    "    I_2 = skutil.img_as_float(I)\n",
    "    rows, cols, chan = I_2.shape\n",
    "    \n",
    "    output = np.zeros_like(I_2)\n",
    "    \n",
    "    # Neighborhood size (2 * radius + 1) x (2 * radius + 1)\n",
    "    n_size = 2 * radius + 1\n",
    "    \n",
    "    for r in range(radius, rows - radius):\n",
    "        for c in range(radius, cols - radius):\n",
    "            Iwindow = I_2[r - radius:r + radius + 1, c - radius:c + radius + 1, :]\n",
    "            \n",
    "\n",
    "            colours = np.reshape(Iwindow, (n_size * n_size, chan))\n",
    "\n",
    "            Y = np.tile(colours[:, np.newaxis, :], (1, n_size * n_size, 1))\n",
    "            \n",
    "            X = np.tile(colours[np.newaxis, :, :], (n_size * n_size, 1, 1))\n",
    "            \n",
    "            man_dist = np.sum(np.abs(X - Y), axis=(1, 2))\n",
    "\n",
    "            min_index = np.argmin(man_dist)\n",
    "            median_color = colours[min_index, :]\n",
    "            \n",
    "            output[r, c, :] = median_color\n",
    " \n",
    "        output = skutil.img_as_ubyte(output)\n",
    "    \n",
    "    return output"
   ]
  },
  {
   "cell_type": "markdown",
   "metadata": {},
   "source": [
    "# Step 2a: Establish a Baseline\n",
    "\n",
    "## Instructions\n",
    "\n",
    "- Determine the PSNR and SSIM of all of the noisy images by comparing them to their noiseless versions -- store these in a list.  \n",
    "    - Use the same method to read the images files as in question 1, but read them from the `images/noisy` directory and the `images/noiseless` directory as needed.\n",
    "- Filter each noisy image with a 3x3 vector median filter and compute the PSNR and SSIM of all of the filtered noisy images (by comparing them to the noiseless images) -- store these in a list.   \n",
    "    - As with question 1, to save time we recommend you develop and debug your programs using only the first three to five images in file_list, and run it on the complete list when you're done. \n",
    "- The noiseless images are provided so you can compute PSNR and SSIM.  See functions `skmetrics.peak_signal_noise_ratio()` and `skmetrics.structural_similarity()`.  You'll need the `channel_axis=2` argument for `structural_similarity()`.  This indicates to the function that the it is the 3rd dimension of the 3D arrays that index the R, G and B channels.\n",
    "\n",
    "_Hint: This step requires doing a few seemingly different things, but it's actually easier to do them all at once in the same loop._\n",
    "\n"
   ]
  },
  {
   "cell_type": "code",
   "execution_count": 40,
   "metadata": {
    "tags": []
   },
   "outputs": [
    {
     "name": "stdout",
     "output_type": "stream",
     "text": [
      "200\r"
     ]
    }
   ],
   "source": [
    "# Some modules you might need.\n",
    "\n",
    "import skimage.io as io\n",
    "import os as os\n",
    "import skimage.metrics as skmetrics\n",
    "import skimage.util as skutil\n",
    "import numpy as np\n",
    "import pandas as pd\n",
    "\n",
    "files = pd.read_csv(\"/u1/cmpt487-819/data/asn1/images.csv\", header=None)\n",
    "noiseless_dir = \"/u1/cmpt487-819/data/asn1/images/noiseless/\"\n",
    "noisy_dir = \"/u1/cmpt487-819/data/asn1/images/noisy/\"\n",
    "\n",
    "file_list = files[0].tolist()\n",
    "\n",
    "psnr_noisy_list = []\n",
    "ssim_noisy_list = []\n",
    "psnr_filtered_list = []\n",
    "ssim_filtered_list = []\n",
    "\n",
    "counter = 0\n",
    "for filename in file_list:\n",
    "    counter+=1\n",
    "\n",
    "    noiseless_image = io.imread(os.path.join(noiseless_dir, filename))\n",
    "    noisy_image = io.imread(os.path.join(noisy_dir, filename))\n",
    "    \n",
    "    noiseless_image_float = skutil.img_as_float(noiseless_image)\n",
    "    noisy_image_float = skutil.img_as_float(noisy_image)\n",
    "    \n",
    "    filtered_image = vector_median(noisy_image_float, radius=1)\n",
    "\n",
    "    psnr_noisy = skmetrics.peak_signal_noise_ratio(noiseless_image_float, noisy_image_float)\n",
    "    ssim_noisy = skmetrics.structural_similarity(noiseless_image_float, noisy_image_float, data_range=1.0, channel_axis=2)\n",
    "\n",
    "    psnr_filtered = skmetrics.peak_signal_noise_ratio(noiseless_image_float, filtered_image)\n",
    "    ssim_filtered = skmetrics.structural_similarity(noiseless_image_float, filtered_image, data_range=1.0, channel_axis=2)\n",
    "    \n",
    "    psnr_noisy_list.append(psnr_noisy)\n",
    "    ssim_noisy_list.append(ssim_noisy)\n",
    "    psnr_filtered_list.append(psnr_filtered)\n",
    "    ssim_filtered_list.append(ssim_filtered)\n",
    "    print(counter, end ='\\r')"
   ]
  },
  {
   "cell_type": "markdown",
   "metadata": {},
   "source": [
    "# Step 2b: Compute average baseline metrics.\n",
    "\n",
    "## Instructions\n",
    "\n",
    "Compute the average PSNR and SSIM for the unfiltered noisy images (take the PSNR and SSIM measures for each image and average them).  Do the same for the median-filtered noisy images.  Plot a bar graph showing the two mean PSNR values and another showing the two mean SSIM values before and after filtering (see assignment description for sample output)."
   ]
  },
  {
   "cell_type": "code",
   "execution_count": 41,
   "metadata": {
    "tags": []
   },
   "outputs": [
    {
     "data": {
      "image/png": "[encoded data removed]",
      "text/plain": [
       "<Figure size 1200x500 with 2 Axes>"
      ]
     },
     "metadata": {},
     "output_type": "display_data"
    }
   ],
   "source": [
    "# some modules you might need.\n",
    "\n",
    "import matplotlib.pyplot as plt\n",
    "import numpy as np\n",
    "\n",
    "avg_psnr_noisy = np.mean(psnr_noisy_list)\n",
    "avg_ssim_noisy = np.mean(ssim_noisy_list)\n",
    "avg_psnr_filtered = np.mean(psnr_filtered_list)\n",
    "avg_ssim_filtered = np.mean(ssim_filtered_list)\n",
    "\n",
    "plt.subplots(1, 2, figsize=(12, 5))\n",
    "\n",
    "plt.subplot(1, 2, 1)\n",
    "psnr_values = [avg_psnr_noisy, avg_psnr_filtered]\n",
    "plt.bar(['PSNR Noisy', 'PSNR Median'], psnr_values)\n",
    "plt.ylim(0, 30) \n",
    "\n",
    "plt.subplot(1, 2, 2)\n",
    "ssim_values = [avg_ssim_noisy, avg_ssim_filtered]\n",
    "plt.bar(['SSIM Noisy', 'SSIM Median'], ssim_values)\n",
    "plt.ylim(0, 1.0)\n",
    "\n",
    "plt.tight_layout()\n",
    "plt.show()"
   ]
  },
  {
   "cell_type": "markdown",
   "metadata": {},
   "source": [
    "# Step 3:  See if you can do better!\n",
    "\n",
    "Find a better way to denoise the images.  Compute the mean PSNR and SSIM for your denoising method.   Replot the graphs in the previous step with the new results added.\n",
    "\n",
    "_You can use any functions in the python libraries to help you (numpy, scipy, skimage, etc.) but you cannot bring in code from external sources._\n"
   ]
  },
  {
   "cell_type": "code",
   "execution_count": 51,
   "metadata": {},
   "outputs": [
    {
     "name": "stdout",
     "output_type": "stream",
     "text": [
      "100\r"
     ]
    },
    {
     "data": {
      "image/png": "[encoded data removed]",
      "text/plain": [
       "<Figure size 1200x500 with 2 Axes>"
      ]
     },
     "metadata": {},
     "output_type": "display_data"
    }
   ],
   "source": [
    "# Write your de-noising method here.\n",
    "\n",
    "from skimage.restoration import denoise_nl_means, estimate_sigma\n",
    "\n",
    "def advanced_denoising(image):\n",
    "    #remove both types of noise\n",
    "    median_filtered_image = vector_median(image, radius = 1)\n",
    "    \n",
    "    sigma_est = np.mean(estimate_sigma(median_filtered_image, channel_axis=2))\n",
    "    denoised_image = denoise_nl_means(median_filtered_image, h=sigma_est,channel_axis=2)\n",
    "    \n",
    "    return denoised_image\n",
    "\n",
    "psnr_adv_list = []\n",
    "ssim_adv_list = []\n",
    "counter = 0\n",
    "for filename in file_list[0:100]:\n",
    "    counter +=1\n",
    "    noiseless_image = io.imread(os.path.join(noiseless_dir, filename))\n",
    "    noisy_image = io.imread(os.path.join(noisy_dir, filename))\n",
    "    \n",
    "    noiseless_image_float = skutil.img_as_float(noiseless_image)\n",
    "    noisy_image_float = skutil.img_as_float(noisy_image)\n",
    "    \n",
    "    adv_denoised = advanced_denoising(noisy_image_float)\n",
    "    \n",
    "    psnr_adv = skmetrics.peak_signal_noise_ratio(noiseless_image_float, adv_denoised)\n",
    "    ssim_adv = skmetrics.structural_similarity(noiseless_image_float, adv_denoised, data_range=1.0, channel_axis=2)\n",
    "    \n",
    "    psnr_adv_list.append(psnr_adv)\n",
    "    ssim_adv_list.append(ssim_adv)\n",
    "    \n",
    "    print(counter, end='\\r')\n",
    "\n",
    "avg_psnr_adv = np.mean(psnr_adv_list)\n",
    "avg_ssim_adv = np.mean(ssim_adv_list)\n",
    "\n",
    "\n",
    "plt.subplots(1, 2, figsize=(12, 5))\n",
    "\n",
    "# PSNR plot\n",
    "plt.subplot(1, 2, 1)\n",
    "psnr_values = [avg_psnr_noisy, avg_psnr_filtered, avg_psnr_adv]\n",
    "plt.bar(['PSNR Noisy', 'PSNR Median','PSNR Adv'], psnr_values)\n",
    "plt.ylim(0, 35) \n",
    "\n",
    "# SSIM plot\n",
    "plt.subplot(1, 2, 2)\n",
    "ssim_values = [avg_ssim_noisy, avg_ssim_filtered, avg_ssim_adv]\n",
    "plt.bar(['SSIM Noisy', 'SSIM Median','SSIM Adv'], ssim_values)\n",
    "plt.ylim(0, 1.0)\n",
    "\n",
    "plt.tight_layout()\n",
    "plt.show()    "
   ]
  },
  {
   "cell_type": "code",
   "execution_count": null,
   "metadata": {},
   "outputs": [],
   "source": []
  }
 ],
 "metadata": {
  "kernelspec": {
   "display_name": "Python 3 (ipykernel)",
   "language": "python",
   "name": "python3"
  },
  "language_info": {
   "codemirror_mode": {
    "name": "ipython",
    "version": 3
   },
   "file_extension": ".py",
   "mimetype": "text/x-python",
   "name": "python",
   "nbconvert_exporter": "python",
   "pygments_lexer": "ipython3",
   "version": "3.10.11"
  },
  "pycharm": {
   "stem_cell": {
    "cell_type": "raw",
    "metadata": {
     "collapsed": false
    },
    "source": []
   }
  }
 },
 "nbformat": 4,
 "nbformat_minor": 4
}
