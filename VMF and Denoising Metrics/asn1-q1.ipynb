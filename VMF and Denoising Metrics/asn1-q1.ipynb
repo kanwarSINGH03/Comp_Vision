{
 "cells": [
  {
   "cell_type": "markdown",
   "id": "d83bea8b-fece-4382-9d99-16e27a979fd3",
   "metadata": {},
   "source": [
    "# Question 1\n",
    "\n",
    "In this question we will\n",
    "- Practice reading image filenames from a .csv file for processing.\n",
    "- Compare the PSNR and SSIM of different denoising methods applied to a dataset at different noise levels.\n",
    "\n",
    "\n"
   ]
  },
  {
   "cell_type": "code",
   "execution_count": 3,
   "id": "db84ec26-0700-4e44-b02f-212980e868da",
   "metadata": {
    "ExecuteTime": {
     "end_time": "2024-10-01T01:42:10.947728Z",
     "start_time": "2024-10-01T01:41:39.737815Z"
    }
   },
   "outputs": [],
   "source": [
    "# Boilerplate imports\n",
    "import skimage.io as skio\n",
    "import skimage.color as skcolor\n",
    "import skimage.util as skutil\n",
    "import skimage.restoration as skrest\n",
    "import skimage.filters as skfilt\n",
    "import skimage.metrics as skmetrics\n",
    "import os\n",
    "import numpy as np\n",
    "import matplotlib.pyplot as plt\n",
    "\n",
    "import pandas as pd"
   ]
  },
  {
   "cell_type": "markdown",
   "id": "9acf0e07-94ea-4b0e-8b84-03a5dc8fceb2",
   "metadata": {},
   "source": [
    "# Step 1: Read the image filenames from the .csv file.  \n",
    "\n",
    "For this you should add `import pandas as pd` to the list of boilerplate imports, above.  Then use the pd.read_csv() function and give the path to the images.csv file as an argument, and also give the optional argument `headers=None` because the given .csv file does not have column title headers.  This will return a Pandas dataframe with one column containing the filenames.  We could iterate over the dataframe, but in order to not have to get too deep into the use of Pandas dataframes, we can convert the single column dataframe to a Python list easily.  If the dataframe is referred to by a variable called `files`, we can convert the first column to a list using:  `files[0].tolist()`.  This will return a list of strings, one for each filename that we can now easily iterate over using a for-loop.\n"
   ]
  },
  {
   "cell_type": "code",
   "execution_count": 7,
   "id": "4f1c6d87-ab4b-47fe-98b5-a5e0fab0e895",
   "metadata": {
    "ExecuteTime": {
     "end_time": "2024-10-01T01:44:46.005436Z",
     "start_time": "2024-10-01T01:44:45.996588Z"
    }
   },
   "outputs": [],
   "source": [
    "# Write the code for this step here\n",
    "files = pd.read_csv(\"/Users/kanwarsingh/Desktop/Fall 2024/CMPT 487/asn1/images/images.csv\",header=None)\n",
    "\n",
    "file_list = files[0].tolist()"
   ]
  },
  {
   "cell_type": "markdown",
   "id": "5522e2b8-529c-4f8e-9a41-fdd3de0e57c6",
   "metadata": {},
   "source": [
    "# Step 2: Process the images\n",
    "\n",
    "## Instructions\n",
    "\n",
    "- For each filename in `file_list` defined in the prevous block (for testing purposes you can use a small number of the images, say the first 3-5 filenames):\n",
    "    - read in the noiseless version of that image from the images/noiseless directory.  Convert it to grayscale (since these are RGB colour images) and convert it to a dtype float64 numpy array using `skutil.img_as_float()`.\n",
    "    - use the `skutil.random_noise()` function to corrupt the noiseless image with Gaussian noise with standard deviation sigma for each of the sigma values given in the array `sigmas`, defined below.  Keep in mind that the values in `sigmas` are standard deviations, and the `random_noise()` function expects *variance*, so you will need to square the sigma values when you pass them to `random_noise()`.\n",
    "    - Denoise each of the 5 noisy versions of the image with Gaussian filtering (`skfilt.gaussian()`), total variation minimization (TVM) (`skrest.denoise_tv_bregman()`), and non-local means filtering (NLM) (`skrest.denoise_nl_means()`).  For Gaussian filtering, use a 7x7 filter.  For TVM and NLM just pass in the image and use the *default* parameters.\n",
    "    - For each denoised image, compute and store the PSNR and SSIM resulting from denoising with each method by comparing each denoised image to the noiseless image.  Do this in such a way that is easy to compute the averages described below.\n",
    "      \n",
    "- Compute the average PSNR and SSIM for each denoising method and noise level.   We recommend that the results of this computation be stored in the form of six different arrays or lists, one for each combination of denoising method and metric.\n",
    "- See functions `skmetrics.peak_signal_noise_ratio()` and `skmetrics.structural_similarity()` to compute PSNR and SSIM.\n",
    "\n",
    "For testing use only the first three to five filenames in `file_list` so that you can perform testing quickly.  Once you have completed and thoroughly tested your code, run it on the entire list of filenames.  This will take several minutes.  \n"
   ]
  },
  {
   "cell_type": "code",
   "execution_count": 12,
   "id": "079bf95c-d7ed-48b8-ac6a-0f2a4a1bda83",
   "metadata": {
    "ExecuteTime": {
     "end_time": "2024-10-01T02:07:56.772802Z",
     "start_time": "2024-10-01T02:00:16.168001Z"
    }
   },
   "outputs": [
    {
     "name": "stdout",
     "output_type": "stream",
     "text": [
      "Average PSNR for Gaussian: [27.580770423085287, 27.510415588728748, 27.08120434964656, 25.94627002985815, 23.33848647821407]\n",
      "Average PSNR for TVM: [27.807596405944143, 27.783250393400532, 27.624376558073617, 26.759443063576423, 23.269607202589963]\n",
      "Average PSNR for NLM: [26.45906248008095, 26.472532559370944, 26.545017210839642, 26.600820176012757, 17.91437130577588]\n"
     ]
    }
   ],
   "source": [
    "# Define the set of different noise levels (STANDARD DEVIATIONS)\n",
    "sigmas = [0.01, 0.02, 0.05, 0.1, 0.2]\n",
    "\n",
    "# Preload all noiseless images once and convert them to grayscale float images\n",
    "noiseless_images = [skcolor.rgb2gray(skutil.img_as_float(skio.imread(\"/Users/kanwarsingh/Desktop/Fall 2024/CMPT 487/asn1/images/images/noiseless/\" + filename)))\n",
    "                    for filename in file_list]\n",
    "\n",
    "# Preallocate lists for corrupted images, and apply noise in a single pass\n",
    "corrupted_images = []\n",
    "for noiseless_image in noiseless_images:\n",
    "    for sigma in sigmas:\n",
    "        corrupted_images.append(skutil.random_noise(noiseless_image, var=sigma ** 2))\n",
    "\n",
    "# Apply denoising filters once for all corrupted images\n",
    "gaus_filtered_img = [skfilt.gaussian(image, sigma=7/6) for image in corrupted_images]\n",
    "tvm_filt_img = [skrest.denoise_tv_bregman(image, weight=5.0) for image in corrupted_images]\n",
    "nlm_filt_img = [skrest.denoise_nl_means(image) for image in corrupted_images]\n",
    "\n",
    "# Initialize lists for PSNR and SSIM results\n",
    "avg_psnr_gaus, avg_psnr_tvm, avg_psnr_nlm = [], [], []\n",
    "avg_ssim_gaus, avg_ssim_tvm, avg_ssim_nlm = [], [], []\n",
    "\n",
    "# Group corrupted and filtered images by original noiseless image\n",
    "num_images = len(noiseless_images)\n",
    "\n",
    "# Iterate over sigma values\n",
    "for i in range(len(sigmas)):\n",
    "    # Collect PSNR values for each denoising method\n",
    "    psnr_gaus_values = []\n",
    "    psnr_tvm_values = []\n",
    "    psnr_nlm_values = []\n",
    "\n",
    "    for img_idx in range(num_images):\n",
    "        original_image = noiseless_images[img_idx]\n",
    "        \n",
    "        # Indices are shifted by the number of sigma values\n",
    "        corr_idx = img_idx * len(sigmas) + i\n",
    "        \n",
    "        # Calculate PSNR for each method and collect the results\n",
    "        psnr_gaus_values.append(skmetrics.peak_signal_noise_ratio(original_image, gaus_filtered_img[corr_idx]))\n",
    "        psnr_tvm_values.append(skmetrics.peak_signal_noise_ratio(original_image, tvm_filt_img[corr_idx]))\n",
    "        psnr_nlm_values.append(skmetrics.peak_signal_noise_ratio(original_image, nlm_filt_img[corr_idx]))\n",
    "\n",
    "    # Calculate the average PSNR for each denoising method at this sigma level\n",
    "    avg_psnr_gaus.append(np.mean(psnr_gaus_values))\n",
    "    avg_psnr_tvm.append(np.mean(psnr_tvm_values))\n",
    "    avg_psnr_nlm.append(np.mean(psnr_nlm_values))\n",
    "\n",
    "# Print the average PSNR results\n",
    "print(\"Average PSNR for Gaussian:\", avg_psnr_gaus)\n",
    "print(\"Average PSNR for TVM:\", avg_psnr_tvm)\n",
    "print(\"Average PSNR for NLM:\", avg_psnr_nlm)"
   ]
  },
  {
   "cell_type": "markdown",
   "id": "df8189ad-e8b3-4211-be57-e93e84601b5a",
   "metadata": {},
   "source": [
    "# Step 3: Plot the PSNR and SSIM for each noise level and denoising method.\n",
    "\n",
    "## Instructions\n",
    "\n",
    "- Generate a 2 x 6 group of subplots, each of which contains a bar graph.  The first row of three graphs should show the mean PSNR for each of the five noise levels for Gaussian filtering, TVM filtering and NLM filtering.  Sample output is given in the assignment PDF.  Your plots, subplot titles, axis labels, and tick labels should match the sample output.\n",
    "- Make sure that the range of the y-axis is the same for all PSNR plots and the same for all SSIM plots.\n"
   ]
  },
  {
   "cell_type": "code",
   "execution_count": 1,
   "id": "b4186f16-85b8-46d9-80f0-52c0eca08b83",
   "metadata": {},
   "outputs": [],
   "source": [
    "# Write the code for this step here\n"
   ]
  },
  {
   "cell_type": "markdown",
   "id": "e24c1da1-6e87-4ffc-b587-ed3c1b0a0370",
   "metadata": {},
   "source": [
    "# Step 4: Reflection\n",
    "\n",
    "We'd expect the total variation minimization (TVM) to be slightly better than Gaussian filtering at most noise levels, but we do not see this.  We'd also expect the non-local means (NLM) filtering to outperform Gaussian filtering at all noise levels, and again we do not see this.  This is because we did all filtering using default parameters for the TVM and NLM filtering algorithms.  Why do the default parameters not produce expected results?"
   ]
  },
  {
   "cell_type": "markdown",
   "id": "654cbd03-7e9c-413b-aa27-7970c52d7d24",
   "metadata": {},
   "source": [
    "### Type your answer here in this block:\n",
    "\n"
   ]
  },
  {
   "cell_type": "markdown",
   "id": "78d21cce-2a2a-400b-a3df-9306e63f4446",
   "metadata": {},
   "source": [
    "# Step 5: Improving the Results\n",
    "\n",
    "## Instructions:\n",
    "\n",
    "- Investigate the documentation for the denoise_tv_bregman() and denoise_nl_means() functions.   \n",
    "- Determine more optimal parameters for these algorithms that will improve results across all noise levels.  You may make the values of parameters dependent on the known noise level of a given image (i.e. a parameter may be a function of the noise level).\n",
    "- Hint: you can likely copy your code from Steps 2 and 3 and then add parameters to the denoising algoirthms.  \n",
    "- The output of this step should have the same form as Step 3, but the bar heights will be different.\n",
    "\n",
    "By adjusting the algorithm parameters judiciously, it should be possible to get TVM to at least very slightly outperform Gaussian filtering at all noise levels, and it should be possible to get NLM to greatly outperform both Gaussian filtering and TVM at low noise levels, and perform at least as well at high noise levels.\n",
    "\n",
    "This step will be assessed based on how closely you match or exceed the expected results described above (see rubric on Canvas)."
   ]
  },
  {
   "cell_type": "code",
   "execution_count": null,
   "id": "dd5f14a9-355b-47bd-82f6-03abed6ed6f2",
   "metadata": {},
   "outputs": [],
   "source": [
    "# Write the code for this step here\n"
   ]
  }
 ],
 "metadata": {
  "kernelspec": {
   "display_name": "Python 3 (ipykernel)",
   "language": "python",
   "name": "python3"
  },
  "language_info": {
   "codemirror_mode": {
    "name": "ipython",
    "version": 3
   },
   "file_extension": ".py",
   "mimetype": "text/x-python",
   "name": "python",
   "nbconvert_exporter": "python",
   "pygments_lexer": "ipython3",
   "version": "3.9.16"
  }
 },
 "nbformat": 4,
 "nbformat_minor": 5
}
