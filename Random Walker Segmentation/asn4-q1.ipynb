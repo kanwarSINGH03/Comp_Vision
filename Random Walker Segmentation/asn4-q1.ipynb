{
 "cells": [
  {
   "cell_type": "markdown",
   "metadata": {
    "pycharm": {
     "name": "#%% md\n"
    }
   },
   "source": [
    "# Question 1\n",
    "\n",
    "In this question we will:\n",
    "\n",
    "- Implement a segmentation algorithm that uses random walker as the primary means to segment a noisy version of the leaf dataset from the previous assignment.\n",
    "- Evaluate the performance of our algorithm in terms of mean Dice coefficient.\n",
    "- Examine the best and worst results that we get from the dataset.\n",
    "- Reason on why the algorithm works well on the 'best' cases and what causes it to fail on the 'worst' cases.\n",
    "\n"
   ]
  },
  {
   "cell_type": "markdown",
   "metadata": {},
   "source": [
    "# Step 1: Write your Segmentation Algorithm\n",
    "\n",
    "Write a function that segments a leaf image, and returns a binary (`dtype='bool'`) image representing the segmentation.  You may add additional parameters besides the image to be segmented if you wish.  Your algorithm must use the random-walker segmentation (``skimage.segmentation.random_walker()``) and you should consider doing some region processing after segmentation to improve the result.\n",
    "\n",
    "Let's assume that, for the purposes of this, that de-noising the images would be too expensive because\n",
    "our application has to run on a mobile device.   Thus, you are not allowed to denoise the images before applying the\n",
    "random walker algorithm.\n",
    "\n",
    "_Hint: The challenge here is to automatically find suitable foreground and background markers for the random walker algorithm.  The noisy images make for an additional challenge, but that's why we're using random walker; becuase of its robustness to noise._\n",
    "\n",
    "_Hint: When you use `random_walker()` on a color image, make sure to set `channel_axis=2`._\n",
    "\n",
    "_Hint: you may need to adjust the `beta` and `tol` arguments to the `ramdom_walker()` function to get excellent results._\n",
    "\n",
    "_Hint: Output of the `random_walker()` function may be further post-processed using region processing methods._"
   ]
  },
  {
   "cell_type": "markdown",
   "metadata": {},
   "source": []
  },
  {
   "cell_type": "code",
   "execution_count": 5,
   "metadata": {
    "ExecuteTime": {
     "end_time": "2024-11-06T17:22:28.643693Z",
     "start_time": "2024-11-06T17:21:28.197828Z"
    }
   },
   "outputs": [
    {
     "ename": "KeyboardInterrupt",
     "evalue": "",
     "output_type": "error",
     "traceback": [
      "\u001B[0;31m---------------------------------------------------------------------------\u001B[0m",
      "\u001B[0;31mKeyboardInterrupt\u001B[0m                         Traceback (most recent call last)",
      "\u001B[0;32m/var/folders/nh/9fsl45m17nn6q_xt_zd0wwbw0000gn/T/ipykernel_88104/3448005104.py\u001B[0m in \u001B[0;36m<module>\u001B[0;34m\u001B[0m\n\u001B[1;32m     23\u001B[0m     \u001B[0;32mreturn\u001B[0m \u001B[0;36m2\u001B[0m\u001B[0;34m\u001B[0m\u001B[0;34m\u001B[0m\u001B[0m\n\u001B[1;32m     24\u001B[0m \u001B[0;31m# plt.imshow(segleaf(io.imread(\"./noisyimages/image_0001.png\")),cmap= 'gray')\u001B[0m\u001B[0;34m\u001B[0m\u001B[0;34m\u001B[0m\u001B[0m\n\u001B[0;32m---> 25\u001B[0;31m \u001B[0mprint\u001B[0m\u001B[0;34m(\u001B[0m\u001B[0msegleaf\u001B[0m\u001B[0;34m(\u001B[0m\u001B[0mio\u001B[0m\u001B[0;34m.\u001B[0m\u001B[0mimread\u001B[0m\u001B[0;34m(\u001B[0m\u001B[0;34m\"./noisyimages/image_0001.png\"\u001B[0m\u001B[0;34m)\u001B[0m\u001B[0;34m)\u001B[0m\u001B[0;34m)\u001B[0m\u001B[0;34m\u001B[0m\u001B[0;34m\u001B[0m\u001B[0m\n\u001B[0m",
      "\u001B[0;32m/var/folders/nh/9fsl45m17nn6q_xt_zd0wwbw0000gn/T/ipykernel_88104/3448005104.py\u001B[0m in \u001B[0;36msegleaf\u001B[0;34m(I)\u001B[0m\n\u001B[1;32m     20\u001B[0m     \u001B[0mlabels\u001B[0m \u001B[0;34m=\u001B[0m \u001B[0mmorph\u001B[0m\u001B[0;34m.\u001B[0m\u001B[0mlabel\u001B[0m\u001B[0;34m(\u001B[0m\u001B[0mI\u001B[0m\u001B[0;34m)\u001B[0m\u001B[0;34m\u001B[0m\u001B[0;34m\u001B[0m\u001B[0m\n\u001B[1;32m     21\u001B[0m \u001B[0;34m\u001B[0m\u001B[0m\n\u001B[0;32m---> 22\u001B[0;31m     \u001B[0mbinary\u001B[0m \u001B[0;34m=\u001B[0m \u001B[0mseg\u001B[0m\u001B[0;34m.\u001B[0m\u001B[0mrandom_walker\u001B[0m\u001B[0;34m(\u001B[0m\u001B[0mI\u001B[0m\u001B[0;34m,\u001B[0m \u001B[0mlabels\u001B[0m\u001B[0;34m,\u001B[0m \u001B[0mbeta\u001B[0m\u001B[0;34m=\u001B[0m \u001B[0;36m0\u001B[0m\u001B[0;34m)\u001B[0m \u001B[0;34m>\u001B[0m \u001B[0;36m0\u001B[0m\u001B[0;34m\u001B[0m\u001B[0;34m\u001B[0m\u001B[0m\n\u001B[0m\u001B[1;32m     23\u001B[0m     \u001B[0;32mreturn\u001B[0m \u001B[0;36m2\u001B[0m\u001B[0;34m\u001B[0m\u001B[0;34m\u001B[0m\u001B[0m\n\u001B[1;32m     24\u001B[0m \u001B[0;31m# plt.imshow(segleaf(io.imread(\"./noisyimages/image_0001.png\")),cmap= 'gray')\u001B[0m\u001B[0;34m\u001B[0m\u001B[0;34m\u001B[0m\u001B[0m\n",
      "\u001B[0;32m/opt/anaconda3/lib/python3.9/site-packages/skimage/segmentation/random_walker_segmentation.py\u001B[0m in \u001B[0;36mrandom_walker\u001B[0;34m(data, labels, beta, mode, tol, copy, multichannel, return_full_prob, spacing, prob_tol)\u001B[0m\n\u001B[1;32m    481\u001B[0m \u001B[0;34m\u001B[0m\u001B[0m\n\u001B[1;32m    482\u001B[0m     \u001B[0;31m# Build the linear system (lap_sparse, B)\u001B[0m\u001B[0;34m\u001B[0m\u001B[0;34m\u001B[0m\u001B[0m\n\u001B[0;32m--> 483\u001B[0;31m     lap_sparse, B = _build_linear_system(data, spacing, labels, nlabels, mask,\n\u001B[0m\u001B[1;32m    484\u001B[0m                                          beta, multichannel)\n\u001B[1;32m    485\u001B[0m \u001B[0;34m\u001B[0m\u001B[0m\n",
      "\u001B[0;32m/opt/anaconda3/lib/python3.9/site-packages/skimage/segmentation/random_walker_segmentation.py\u001B[0m in \u001B[0;36m_build_linear_system\u001B[0;34m(data, spacing, labels, nlabels, mask, beta, multichannel)\u001B[0m\n\u001B[1;32m    160\u001B[0m \u001B[0;34m\u001B[0m\u001B[0m\n\u001B[1;32m    161\u001B[0m     \u001B[0mseeds\u001B[0m \u001B[0;34m=\u001B[0m \u001B[0mlabels\u001B[0m\u001B[0;34m[\u001B[0m\u001B[0mseeds_mask\u001B[0m\u001B[0;34m]\u001B[0m\u001B[0;34m\u001B[0m\u001B[0;34m\u001B[0m\u001B[0m\n\u001B[0;32m--> 162\u001B[0;31m     seeds_mask = sparse.csc_matrix(np.hstack(\n\u001B[0m\u001B[1;32m    163\u001B[0m         [np.atleast_2d(seeds == lab).T for lab in range(1, nlabels + 1)]))\n\u001B[1;32m    164\u001B[0m     \u001B[0mrhs\u001B[0m \u001B[0;34m=\u001B[0m \u001B[0mB\u001B[0m\u001B[0;34m.\u001B[0m\u001B[0mdot\u001B[0m\u001B[0;34m(\u001B[0m\u001B[0mseeds_mask\u001B[0m\u001B[0;34m)\u001B[0m\u001B[0;34m\u001B[0m\u001B[0;34m\u001B[0m\u001B[0m\n",
      "\u001B[0;32m<__array_function__ internals>\u001B[0m in \u001B[0;36mhstack\u001B[0;34m(*args, **kwargs)\u001B[0m\n",
      "\u001B[0;32m/opt/anaconda3/lib/python3.9/site-packages/numpy/core/shape_base.py\u001B[0m in \u001B[0;36mhstack\u001B[0;34m(tup)\u001B[0m\n\u001B[1;32m    344\u001B[0m         \u001B[0;32mreturn\u001B[0m \u001B[0m_nx\u001B[0m\u001B[0;34m.\u001B[0m\u001B[0mconcatenate\u001B[0m\u001B[0;34m(\u001B[0m\u001B[0marrs\u001B[0m\u001B[0;34m,\u001B[0m \u001B[0;36m0\u001B[0m\u001B[0;34m)\u001B[0m\u001B[0;34m\u001B[0m\u001B[0;34m\u001B[0m\u001B[0m\n\u001B[1;32m    345\u001B[0m     \u001B[0;32melse\u001B[0m\u001B[0;34m:\u001B[0m\u001B[0;34m\u001B[0m\u001B[0;34m\u001B[0m\u001B[0m\n\u001B[0;32m--> 346\u001B[0;31m         \u001B[0;32mreturn\u001B[0m \u001B[0m_nx\u001B[0m\u001B[0;34m.\u001B[0m\u001B[0mconcatenate\u001B[0m\u001B[0;34m(\u001B[0m\u001B[0marrs\u001B[0m\u001B[0;34m,\u001B[0m \u001B[0;36m1\u001B[0m\u001B[0;34m)\u001B[0m\u001B[0;34m\u001B[0m\u001B[0;34m\u001B[0m\u001B[0m\n\u001B[0m\u001B[1;32m    347\u001B[0m \u001B[0;34m\u001B[0m\u001B[0m\n\u001B[1;32m    348\u001B[0m \u001B[0;34m\u001B[0m\u001B[0m\n",
      "\u001B[0;32m<__array_function__ internals>\u001B[0m in \u001B[0;36mconcatenate\u001B[0;34m(*args, **kwargs)\u001B[0m\n",
      "\u001B[0;31mKeyboardInterrupt\u001B[0m: "
     ]
    }
   ],
   "source": [
    "import skimage.util as util\n",
    "import skimage.io as io\n",
    "import numpy as np\n",
    "import os as os\n",
    "import matplotlib.pyplot as plt\n",
    "import skimage.filters as filt\n",
    "import skimage.color as skcolor\n",
    "import skimage.morphology as morph\n",
    "import skimage.segmentation as seg\n",
    "import skimage.measure as meas\n",
    "\n",
    "def segleaf(I):\n",
    "    '''\n",
    "    Segment a leaf image.\n",
    "    :param I: Color leaf image to segment.\n",
    "    :return: Logical image where True pixels represent foreground (i.e. leaf pixels).\n",
    "    '''\n",
    "    \n",
    "    I = color.rgb2gray(I)\n",
    "    I_rescaled = exposure.rescale_intensity(I)\n",
    "    \n",
    "    seeds = np.zeros_like(I, dtype=np.uint)\n",
    "    seeds[I_rescaled < 0.20] = 1  # fg label\n",
    "    seeds[I_rescaled >= 0.35] = 2  # bg label\n",
    "    \n",
    "    labels = seg.random_walker(I_rescaled, seeds, beta=10)\n",
    "    return labels>0\n",
    "# plt.imshow(segleaf(io.imread(\"./noisyimages/image_0001.png\")),cmap= 'gray')\n",
    "print(segleaf(io.imread(\"./noisyimages/image_0001.png\")))"
   ]
  },
  {
   "cell_type": "markdown",
   "metadata": {},
   "source": [
    "# Step 2: Write a Validation driver program.\n",
    "\n",
    "Write code that segments each image, and computes the DSC for each segmentation.  Print the DSC of each segmentation as you perform it.  At the end, print the average of the DSC over all of the images. \n",
    "\n",
    "The general approach should be similar to Assignment 3.  For each input image (in the `noisyimages` directory):\n",
    "\n",
    "* load the noisy image and it's ground truth\n",
    "* segment the input image using the function you wrote in Step 1.\n",
    "* Compute the DSC from the segmented image and the ground truth image (this function is given below).\n",
    "* Print the DSC to the console.\n",
    "\n",
    "When finished, print the average DSC for all images.  If you're getting a mean DSC of greater than 0.85, you're doing pretty good.\n",
    "\n",
    "_Feel free to define additional helper functions for your program if you think it will help._"
   ]
  },
  {
   "cell_type": "code",
   "execution_count": 1,
   "metadata": {},
   "outputs": [],
   "source": [
    "def dice_coefficient(bwA, bwG):\n",
    "    '''\n",
    "    Dice coefficient between two binary images\n",
    "    :param bwA: a binary (dtype='bool') image\n",
    "    :param bwG: a binary (dtype='bool') image\n",
    "    :return: the Dice coefficient between them\n",
    "    '''\n",
    "    intersection = np.logical_and(bwA, bwG)\n",
    "\n",
    "    return 2.0*np.sum(intersection) / (np.sum(bwA) + np.sum(bwG))\n",
    "\n",
    "\n",
    "# Write your validation driver here.  It should be structured similarly to the driver in Assignment 3.  Again the image.csv file is provided with the names\n",
    "# of all files to be processed.\n"
   ]
  },
  {
   "cell_type": "markdown",
   "metadata": {},
   "source": [
    "# Step 3:  Display Examples\n",
    "\n",
    "Choose one input image where your algoirthm performed very well.  Choose another image where the algorithm did not perform well.  Display the two original images with the segmentation superimposed on top (just like Step 4 in of assignment 3).  Also display the same two image's ground truth with the segmentation superimposed on top.    Title the images to indicate which is the \"good\" example, and which is the \"bad\" example.\n"
   ]
  },
  {
   "cell_type": "code",
   "execution_count": 2,
   "metadata": {},
   "outputs": [],
   "source": [
    "import matplotlib.pyplot as plt\n"
   ]
  },
  {
   "cell_type": "markdown",
   "metadata": {},
   "source": [
    "# Step 4: Reflection\n",
    "\n",
    "### Answer the following questions right here in this block.\n",
    "\n",
    "1. In a few sentences, briefly explain what your segmentation algorithm from Step 1 does and how it works.  \n",
    "\n",
    "\t_Your answer:_  \n",
    "\n",
    "2. Consider your good result.  What, if anything, about your algoirthm is preventing you from getting a better result with this image?  If you weren't able to get any results, leave this blank, or explain what was preventing you from getting a result.\n",
    "\n",
    "\t_Your answer:_  \n",
    "\n",
    "3. Consider your bad result.  What is it about your algoirthm caused the poor performance on this image?   If you weren't able to get any results, leave this blank.\n",
    "\n",
    "\t_Your answer:_ (\"The images are noisy\" is not an acceptable answer.  Be more specific -- if noise is the problem, explain why your algorithm can't overcome the noise; what is preventing it, or what does it need to do better to succeed?)\n"
   ]
  },
  {
   "cell_type": "code",
   "execution_count": null,
   "metadata": {},
   "outputs": [],
   "source": []
  }
 ],
 "metadata": {
  "kernelspec": {
   "display_name": "Python 3 (ipykernel)",
   "language": "python",
   "name": "python3"
  },
  "language_info": {
   "codemirror_mode": {
    "name": "ipython",
    "version": 3
   },
   "file_extension": ".py",
   "mimetype": "text/x-python",
   "name": "python",
   "nbconvert_exporter": "python",
   "pygments_lexer": "ipython3",
   "version": "3.9.16"
  }
 },
 "nbformat": 4,
 "nbformat_minor": 4
}
